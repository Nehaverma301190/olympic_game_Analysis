{
 "cells": [
  {
   "cell_type": "markdown",
   "id": "def88c0c",
   "metadata": {},
   "source": [
    "## Introduction"
   ]
  },
  {
   "cell_type": "markdown",
   "id": "875d550c",
   "metadata": {},
   "source": [
    "The dataset is of olympic games where 110 countries participated in 49 different sports from the year 2000 to 2012 alternatively (i.e 2000,2002,2004,2006,2008,2012).There were 6955 participants from 110 countries who participated and won medals like gold , silver and bronze."
   ]
  },
  {
   "cell_type": "markdown",
   "id": "490e73f8",
   "metadata": {},
   "source": [
    "## Aim of the Study"
   ]
  },
  {
   "cell_type": "markdown",
   "id": "938e5a89",
   "metadata": {},
   "source": [
    "The Aim of the study is to analyze how many medals have been won by respective players and country each year\n"
   ]
  },
  {
   "cell_type": "markdown",
   "id": "7faa6f97",
   "metadata": {},
   "source": [
    "#### Table 1. Description of the features of the Dataset"
   ]
  },
  {
   "cell_type": "markdown",
   "id": "80329123",
   "metadata": {},
   "source": [
    "|Variables| Explaination of the Variables|\n",
    "|---|---|\n",
    "|Name|Name of the Athelete|\n",
    "|Age|Age of the Athelete|\n",
    "|Country| Country of the Athelete|\n",
    "|Year|Olympics held in respective year|\n",
    "|Date_Given|Date of the sports took place|\n",
    "|gold_Medal|Number of Gold Medal Won|\n",
    "|Silver_Medal|Number of Silver Medal Won|\n",
    "|brone_Medal|Number of Broze Medal Won|\n",
    "|Total_Medal|NUmber of Total Medal Won|"
   ]
  },
  {
   "cell_type": "code",
   "execution_count": 1,
   "id": "ed817363",
   "metadata": {},
   "outputs": [],
   "source": [
    "#importing libraries\n",
    "import pandas as pd\n",
    "import numpy as np\n",
    "import seaborn as sns\n",
    "import matplotlib.pyplot as plt"
   ]
  },
  {
   "cell_type": "code",
   "execution_count": 2,
   "id": "3f78ffd8",
   "metadata": {},
   "outputs": [],
   "source": [
    "#reading the dataset\n",
    "olympic=pd.read_csv(\"olympix_data_organized_with_header (1).csv\")"
   ]
  },
  {
   "cell_type": "code",
   "execution_count": 3,
   "id": "4d11d2a2",
   "metadata": {},
   "outputs": [
    {
     "data": {
      "text/plain": [
       "(8618, 10)"
      ]
     },
     "execution_count": 3,
     "metadata": {},
     "output_type": "execute_result"
    }
   ],
   "source": [
    "# to get the total number of observations and variables\n",
    "olympic.shape"
   ]
  },
  {
   "cell_type": "code",
   "execution_count": 4,
   "id": "af130c1d",
   "metadata": {},
   "outputs": [
    {
     "data": {
      "text/html": [
       "<div>\n",
       "<style scoped>\n",
       "    .dataframe tbody tr th:only-of-type {\n",
       "        vertical-align: middle;\n",
       "    }\n",
       "\n",
       "    .dataframe tbody tr th {\n",
       "        vertical-align: top;\n",
       "    }\n",
       "\n",
       "    .dataframe thead th {\n",
       "        text-align: right;\n",
       "    }\n",
       "</style>\n",
       "<table border=\"1\" class=\"dataframe\">\n",
       "  <thead>\n",
       "    <tr style=\"text-align: right;\">\n",
       "      <th></th>\n",
       "      <th>name</th>\n",
       "      <th>age</th>\n",
       "      <th>country</th>\n",
       "      <th>year</th>\n",
       "      <th>Date_Given</th>\n",
       "      <th>sports</th>\n",
       "      <th>gold_medal</th>\n",
       "      <th>silver_medal</th>\n",
       "      <th>brone_medal</th>\n",
       "      <th>total_medal</th>\n",
       "    </tr>\n",
       "  </thead>\n",
       "  <tbody>\n",
       "    <tr>\n",
       "      <th>0</th>\n",
       "      <td>Michael Phelps</td>\n",
       "      <td>23.0</td>\n",
       "      <td>United States</td>\n",
       "      <td>2008</td>\n",
       "      <td>8/24/2008</td>\n",
       "      <td>Swimming</td>\n",
       "      <td>8</td>\n",
       "      <td>0</td>\n",
       "      <td>0</td>\n",
       "      <td>8</td>\n",
       "    </tr>\n",
       "    <tr>\n",
       "      <th>1</th>\n",
       "      <td>Michael Phelps</td>\n",
       "      <td>19.0</td>\n",
       "      <td>United States</td>\n",
       "      <td>2004</td>\n",
       "      <td>8/29/2004</td>\n",
       "      <td>Swimming</td>\n",
       "      <td>6</td>\n",
       "      <td>0</td>\n",
       "      <td>2</td>\n",
       "      <td>8</td>\n",
       "    </tr>\n",
       "    <tr>\n",
       "      <th>2</th>\n",
       "      <td>Michael Phelps</td>\n",
       "      <td>27.0</td>\n",
       "      <td>United States</td>\n",
       "      <td>2012</td>\n",
       "      <td>08-12-2012</td>\n",
       "      <td>Swimming</td>\n",
       "      <td>4</td>\n",
       "      <td>2</td>\n",
       "      <td>0</td>\n",
       "      <td>6</td>\n",
       "    </tr>\n",
       "    <tr>\n",
       "      <th>3</th>\n",
       "      <td>Natalie Coughlin</td>\n",
       "      <td>25.0</td>\n",
       "      <td>United States</td>\n",
       "      <td>2008</td>\n",
       "      <td>8/24/2008</td>\n",
       "      <td>Swimming</td>\n",
       "      <td>1</td>\n",
       "      <td>2</td>\n",
       "      <td>3</td>\n",
       "      <td>6</td>\n",
       "    </tr>\n",
       "    <tr>\n",
       "      <th>4</th>\n",
       "      <td>Aleksey Nemov</td>\n",
       "      <td>24.0</td>\n",
       "      <td>Russia</td>\n",
       "      <td>2000</td>\n",
       "      <td>10-01-2000</td>\n",
       "      <td>Gymnastics</td>\n",
       "      <td>2</td>\n",
       "      <td>1</td>\n",
       "      <td>3</td>\n",
       "      <td>6</td>\n",
       "    </tr>\n",
       "  </tbody>\n",
       "</table>\n",
       "</div>"
      ],
      "text/plain": [
       "               name   age        country  year  Date_Given      sports  \\\n",
       "0    Michael Phelps  23.0  United States  2008   8/24/2008    Swimming   \n",
       "1    Michael Phelps  19.0  United States  2004   8/29/2004    Swimming   \n",
       "2    Michael Phelps  27.0  United States  2012  08-12-2012    Swimming   \n",
       "3  Natalie Coughlin  25.0  United States  2008   8/24/2008    Swimming   \n",
       "4     Aleksey Nemov  24.0         Russia  2000  10-01-2000  Gymnastics   \n",
       "\n",
       "   gold_medal  silver_medal  brone_medal  total_medal  \n",
       "0           8             0            0            8  \n",
       "1           6             0            2            8  \n",
       "2           4             2            0            6  \n",
       "3           1             2            3            6  \n",
       "4           2             1            3            6  "
      ]
     },
     "execution_count": 4,
     "metadata": {},
     "output_type": "execute_result"
    }
   ],
   "source": [
    "#to get first 5 records of the dataset\n",
    "olympic.head(5)"
   ]
  },
  {
   "cell_type": "code",
   "execution_count": 5,
   "id": "d7473b32",
   "metadata": {},
   "outputs": [
    {
     "data": {
      "text/html": [
       "<div>\n",
       "<style scoped>\n",
       "    .dataframe tbody tr th:only-of-type {\n",
       "        vertical-align: middle;\n",
       "    }\n",
       "\n",
       "    .dataframe tbody tr th {\n",
       "        vertical-align: top;\n",
       "    }\n",
       "\n",
       "    .dataframe thead th {\n",
       "        text-align: right;\n",
       "    }\n",
       "</style>\n",
       "<table border=\"1\" class=\"dataframe\">\n",
       "  <thead>\n",
       "    <tr style=\"text-align: right;\">\n",
       "      <th></th>\n",
       "      <th>name</th>\n",
       "      <th>age</th>\n",
       "      <th>country</th>\n",
       "      <th>year</th>\n",
       "      <th>Date_Given</th>\n",
       "      <th>sports</th>\n",
       "      <th>gold_medal</th>\n",
       "      <th>silver_medal</th>\n",
       "      <th>brone_medal</th>\n",
       "      <th>total_medal</th>\n",
       "    </tr>\n",
       "  </thead>\n",
       "  <tbody>\n",
       "    <tr>\n",
       "      <th>8613</th>\n",
       "      <td>Olena Sadovnycha</td>\n",
       "      <td>32.0</td>\n",
       "      <td>Ukraine</td>\n",
       "      <td>2000</td>\n",
       "      <td>10-01-2000</td>\n",
       "      <td>Archery</td>\n",
       "      <td>0</td>\n",
       "      <td>1</td>\n",
       "      <td>0</td>\n",
       "      <td>1</td>\n",
       "    </tr>\n",
       "    <tr>\n",
       "      <th>8614</th>\n",
       "      <td>Kateryna Serdiuk</td>\n",
       "      <td>17.0</td>\n",
       "      <td>Ukraine</td>\n",
       "      <td>2000</td>\n",
       "      <td>10-01-2000</td>\n",
       "      <td>Archery</td>\n",
       "      <td>0</td>\n",
       "      <td>1</td>\n",
       "      <td>0</td>\n",
       "      <td>1</td>\n",
       "    </tr>\n",
       "    <tr>\n",
       "      <th>8615</th>\n",
       "      <td>Wietse van Alten</td>\n",
       "      <td>21.0</td>\n",
       "      <td>Netherlands</td>\n",
       "      <td>2000</td>\n",
       "      <td>10-01-2000</td>\n",
       "      <td>Archery</td>\n",
       "      <td>0</td>\n",
       "      <td>0</td>\n",
       "      <td>1</td>\n",
       "      <td>1</td>\n",
       "    </tr>\n",
       "    <tr>\n",
       "      <th>8616</th>\n",
       "      <td>Sandra Wagner-Sachse</td>\n",
       "      <td>31.0</td>\n",
       "      <td>Germany</td>\n",
       "      <td>2000</td>\n",
       "      <td>10-01-2000</td>\n",
       "      <td>Archery</td>\n",
       "      <td>0</td>\n",
       "      <td>0</td>\n",
       "      <td>1</td>\n",
       "      <td>1</td>\n",
       "    </tr>\n",
       "    <tr>\n",
       "      <th>8617</th>\n",
       "      <td>Rod White</td>\n",
       "      <td>23.0</td>\n",
       "      <td>United States</td>\n",
       "      <td>2000</td>\n",
       "      <td>10-01-2000</td>\n",
       "      <td>Archery</td>\n",
       "      <td>0</td>\n",
       "      <td>0</td>\n",
       "      <td>1</td>\n",
       "      <td>1</td>\n",
       "    </tr>\n",
       "  </tbody>\n",
       "</table>\n",
       "</div>"
      ],
      "text/plain": [
       "                      name   age        country  year  Date_Given   sports  \\\n",
       "8613      Olena Sadovnycha  32.0        Ukraine  2000  10-01-2000  Archery   \n",
       "8614      Kateryna Serdiuk  17.0        Ukraine  2000  10-01-2000  Archery   \n",
       "8615      Wietse van Alten  21.0    Netherlands  2000  10-01-2000  Archery   \n",
       "8616  Sandra Wagner-Sachse  31.0        Germany  2000  10-01-2000  Archery   \n",
       "8617             Rod White  23.0  United States  2000  10-01-2000  Archery   \n",
       "\n",
       "      gold_medal  silver_medal  brone_medal  total_medal  \n",
       "8613           0             1            0            1  \n",
       "8614           0             1            0            1  \n",
       "8615           0             0            1            1  \n",
       "8616           0             0            1            1  \n",
       "8617           0             0            1            1  "
      ]
     },
     "execution_count": 5,
     "metadata": {},
     "output_type": "execute_result"
    }
   ],
   "source": [
    "#to get last % records of the dataset\n",
    "olympic.tail(5)"
   ]
  },
  {
   "cell_type": "code",
   "execution_count": 6,
   "id": "42028c26",
   "metadata": {},
   "outputs": [
    {
     "name": "stdout",
     "output_type": "stream",
     "text": [
      "<class 'pandas.core.frame.DataFrame'>\n",
      "RangeIndex: 8618 entries, 0 to 8617\n",
      "Data columns (total 10 columns):\n",
      " #   Column        Non-Null Count  Dtype  \n",
      "---  ------        --------------  -----  \n",
      " 0   name          8613 non-null   object \n",
      " 1   age           8613 non-null   float64\n",
      " 2   country       8618 non-null   object \n",
      " 3   year          8618 non-null   int64  \n",
      " 4   Date_Given    8618 non-null   object \n",
      " 5   sports        8618 non-null   object \n",
      " 6   gold_medal    8618 non-null   int64  \n",
      " 7   silver_medal  8618 non-null   int64  \n",
      " 8   brone_medal   8618 non-null   int64  \n",
      " 9   total_medal   8618 non-null   int64  \n",
      "dtypes: float64(1), int64(5), object(4)\n",
      "memory usage: 673.4+ KB\n"
     ]
    }
   ],
   "source": [
    "#to get complete information about the dataset\n",
    "olympic.info()"
   ]
  },
  {
   "cell_type": "markdown",
   "id": "889675bd",
   "metadata": {},
   "source": [
    "#### From above information, we can see that the Date column is wrongly read as string by python so it need to be converted to correct datatype"
   ]
  },
  {
   "cell_type": "code",
   "execution_count": 7,
   "id": "992fdec5",
   "metadata": {},
   "outputs": [
    {
     "data": {
      "text/plain": [
       "name            6955\n",
       "age               42\n",
       "country          110\n",
       "year               7\n",
       "Date_Given         7\n",
       "sports            49\n",
       "gold_medal         7\n",
       "silver_medal       4\n",
       "brone_medal        4\n",
       "total_medal        7\n",
       "dtype: int64"
      ]
     },
     "execution_count": 7,
     "metadata": {},
     "output_type": "execute_result"
    }
   ],
   "source": [
    "#to get the number of unique data in each column of the dataframe\n",
    "olympic.nunique()"
   ]
  },
  {
   "cell_type": "code",
   "execution_count": 8,
   "id": "d9d8aa2e",
   "metadata": {},
   "outputs": [],
   "source": [
    "#converting Date_Given colum from object to datetime format\n",
    "olympic[\"Date\"]=pd.to_datetime(olympic['Date_Given'], infer_datetime_format=True)\n"
   ]
  },
  {
   "cell_type": "code",
   "execution_count": 9,
   "id": "c85f73fc",
   "metadata": {},
   "outputs": [
    {
     "name": "stdout",
     "output_type": "stream",
     "text": [
      "<class 'pandas.core.frame.DataFrame'>\n",
      "RangeIndex: 8618 entries, 0 to 8617\n",
      "Data columns (total 11 columns):\n",
      " #   Column        Non-Null Count  Dtype         \n",
      "---  ------        --------------  -----         \n",
      " 0   name          8613 non-null   object        \n",
      " 1   age           8613 non-null   float64       \n",
      " 2   country       8618 non-null   object        \n",
      " 3   year          8618 non-null   int64         \n",
      " 4   Date_Given    8618 non-null   object        \n",
      " 5   sports        8618 non-null   object        \n",
      " 6   gold_medal    8618 non-null   int64         \n",
      " 7   silver_medal  8618 non-null   int64         \n",
      " 8   brone_medal   8618 non-null   int64         \n",
      " 9   total_medal   8618 non-null   int64         \n",
      " 10  Date          8618 non-null   datetime64[ns]\n",
      "dtypes: datetime64[ns](1), float64(1), int64(5), object(4)\n",
      "memory usage: 740.7+ KB\n"
     ]
    }
   ],
   "source": [
    "#getting the information after converting the Date format\n",
    "olympic.info()"
   ]
  },
  {
   "cell_type": "markdown",
   "id": "daadf742",
   "metadata": {},
   "source": [
    "#### After conversion of Date data type, it can be seen that now python is reading it correctly as datetime"
   ]
  },
  {
   "cell_type": "code",
   "execution_count": 10,
   "id": "53a07411",
   "metadata": {},
   "outputs": [],
   "source": [
    "#dropping the column\n",
    "olympic=olympic.drop(['Date_Given'],axis=1)"
   ]
  },
  {
   "cell_type": "markdown",
   "id": "28ad236e",
   "metadata": {},
   "source": [
    "#### Table2. Statistical Metrics of Each Column"
   ]
  },
  {
   "cell_type": "markdown",
   "id": "a26b8937",
   "metadata": {},
   "source": [
    "|Variables|Statistical Metrics|\n",
    "|---|---|\n",
    "|Name|Categorical|\n",
    "|Age|Numerical|\n",
    "|Country|Categorical|\n",
    "|Year|Numerical|\n",
    "|Date|Date|\n",
    "|Sports|Categorical|\n",
    "|Gold_Medal|Numerical|\n",
    "|Silver_Medal|Numerical|\n",
    "|Brone_Medal|Numerical|\n",
    "|Total_Medal|Numerical|\n",
    "\n"
   ]
  },
  {
   "cell_type": "code",
   "execution_count": 11,
   "id": "6521461a",
   "metadata": {},
   "outputs": [
    {
     "data": {
      "text/html": [
       "<div>\n",
       "<style scoped>\n",
       "    .dataframe tbody tr th:only-of-type {\n",
       "        vertical-align: middle;\n",
       "    }\n",
       "\n",
       "    .dataframe tbody tr th {\n",
       "        vertical-align: top;\n",
       "    }\n",
       "\n",
       "    .dataframe thead th {\n",
       "        text-align: right;\n",
       "    }\n",
       "</style>\n",
       "<table border=\"1\" class=\"dataframe\">\n",
       "  <thead>\n",
       "    <tr style=\"text-align: right;\">\n",
       "      <th></th>\n",
       "      <th>name</th>\n",
       "      <th>age</th>\n",
       "      <th>country</th>\n",
       "      <th>year</th>\n",
       "      <th>sports</th>\n",
       "      <th>gold_medal</th>\n",
       "      <th>silver_medal</th>\n",
       "      <th>brone_medal</th>\n",
       "      <th>total_medal</th>\n",
       "      <th>Date</th>\n",
       "    </tr>\n",
       "  </thead>\n",
       "  <tbody>\n",
       "    <tr>\n",
       "      <th>0</th>\n",
       "      <td>Michael Phelps</td>\n",
       "      <td>23.0</td>\n",
       "      <td>United States</td>\n",
       "      <td>2008</td>\n",
       "      <td>Swimming</td>\n",
       "      <td>8</td>\n",
       "      <td>0</td>\n",
       "      <td>0</td>\n",
       "      <td>8</td>\n",
       "      <td>2008-08-24</td>\n",
       "    </tr>\n",
       "    <tr>\n",
       "      <th>1</th>\n",
       "      <td>Michael Phelps</td>\n",
       "      <td>19.0</td>\n",
       "      <td>United States</td>\n",
       "      <td>2004</td>\n",
       "      <td>Swimming</td>\n",
       "      <td>6</td>\n",
       "      <td>0</td>\n",
       "      <td>2</td>\n",
       "      <td>8</td>\n",
       "      <td>2004-08-29</td>\n",
       "    </tr>\n",
       "    <tr>\n",
       "      <th>2</th>\n",
       "      <td>Michael Phelps</td>\n",
       "      <td>27.0</td>\n",
       "      <td>United States</td>\n",
       "      <td>2012</td>\n",
       "      <td>Swimming</td>\n",
       "      <td>4</td>\n",
       "      <td>2</td>\n",
       "      <td>0</td>\n",
       "      <td>6</td>\n",
       "      <td>2012-08-12</td>\n",
       "    </tr>\n",
       "    <tr>\n",
       "      <th>3</th>\n",
       "      <td>Natalie Coughlin</td>\n",
       "      <td>25.0</td>\n",
       "      <td>United States</td>\n",
       "      <td>2008</td>\n",
       "      <td>Swimming</td>\n",
       "      <td>1</td>\n",
       "      <td>2</td>\n",
       "      <td>3</td>\n",
       "      <td>6</td>\n",
       "      <td>2008-08-24</td>\n",
       "    </tr>\n",
       "    <tr>\n",
       "      <th>4</th>\n",
       "      <td>Aleksey Nemov</td>\n",
       "      <td>24.0</td>\n",
       "      <td>Russia</td>\n",
       "      <td>2000</td>\n",
       "      <td>Gymnastics</td>\n",
       "      <td>2</td>\n",
       "      <td>1</td>\n",
       "      <td>3</td>\n",
       "      <td>6</td>\n",
       "      <td>2000-10-01</td>\n",
       "    </tr>\n",
       "  </tbody>\n",
       "</table>\n",
       "</div>"
      ],
      "text/plain": [
       "               name   age        country  year      sports  gold_medal  \\\n",
       "0    Michael Phelps  23.0  United States  2008    Swimming           8   \n",
       "1    Michael Phelps  19.0  United States  2004    Swimming           6   \n",
       "2    Michael Phelps  27.0  United States  2012    Swimming           4   \n",
       "3  Natalie Coughlin  25.0  United States  2008    Swimming           1   \n",
       "4     Aleksey Nemov  24.0         Russia  2000  Gymnastics           2   \n",
       "\n",
       "   silver_medal  brone_medal  total_medal       Date  \n",
       "0             0            0            8 2008-08-24  \n",
       "1             0            2            8 2004-08-29  \n",
       "2             2            0            6 2012-08-12  \n",
       "3             2            3            6 2008-08-24  \n",
       "4             1            3            6 2000-10-01  "
      ]
     },
     "execution_count": 11,
     "metadata": {},
     "output_type": "execute_result"
    }
   ],
   "source": [
    "olympic.head(5)\n"
   ]
  },
  {
   "cell_type": "code",
   "execution_count": 12,
   "id": "79161f33",
   "metadata": {},
   "outputs": [
    {
     "data": {
      "text/html": [
       "<div>\n",
       "<style scoped>\n",
       "    .dataframe tbody tr th:only-of-type {\n",
       "        vertical-align: middle;\n",
       "    }\n",
       "\n",
       "    .dataframe tbody tr th {\n",
       "        vertical-align: top;\n",
       "    }\n",
       "\n",
       "    .dataframe thead th {\n",
       "        text-align: right;\n",
       "    }\n",
       "</style>\n",
       "<table border=\"1\" class=\"dataframe\">\n",
       "  <thead>\n",
       "    <tr style=\"text-align: right;\">\n",
       "      <th></th>\n",
       "      <th>name</th>\n",
       "      <th>age</th>\n",
       "      <th>country</th>\n",
       "      <th>year</th>\n",
       "      <th>sports</th>\n",
       "      <th>gold_medal</th>\n",
       "      <th>silver_medal</th>\n",
       "      <th>brone_medal</th>\n",
       "      <th>total_medal</th>\n",
       "      <th>Date</th>\n",
       "    </tr>\n",
       "  </thead>\n",
       "  <tbody>\n",
       "    <tr>\n",
       "      <th>0</th>\n",
       "      <td>Michael Phelps</td>\n",
       "      <td>23.0</td>\n",
       "      <td>United States</td>\n",
       "      <td>2008</td>\n",
       "      <td>Swimming</td>\n",
       "      <td>8</td>\n",
       "      <td>0</td>\n",
       "      <td>0</td>\n",
       "      <td>8</td>\n",
       "      <td>2008-08-24</td>\n",
       "    </tr>\n",
       "    <tr>\n",
       "      <th>1</th>\n",
       "      <td>Michael Phelps</td>\n",
       "      <td>19.0</td>\n",
       "      <td>United States</td>\n",
       "      <td>2004</td>\n",
       "      <td>Swimming</td>\n",
       "      <td>6</td>\n",
       "      <td>0</td>\n",
       "      <td>2</td>\n",
       "      <td>8</td>\n",
       "      <td>2004-08-29</td>\n",
       "    </tr>\n",
       "    <tr>\n",
       "      <th>2</th>\n",
       "      <td>Michael Phelps</td>\n",
       "      <td>27.0</td>\n",
       "      <td>United States</td>\n",
       "      <td>2012</td>\n",
       "      <td>Swimming</td>\n",
       "      <td>4</td>\n",
       "      <td>2</td>\n",
       "      <td>0</td>\n",
       "      <td>6</td>\n",
       "      <td>2012-08-12</td>\n",
       "    </tr>\n",
       "    <tr>\n",
       "      <th>3</th>\n",
       "      <td>Natalie Coughlin</td>\n",
       "      <td>25.0</td>\n",
       "      <td>United States</td>\n",
       "      <td>2008</td>\n",
       "      <td>Swimming</td>\n",
       "      <td>1</td>\n",
       "      <td>2</td>\n",
       "      <td>3</td>\n",
       "      <td>6</td>\n",
       "      <td>2008-08-24</td>\n",
       "    </tr>\n",
       "    <tr>\n",
       "      <th>4</th>\n",
       "      <td>Aleksey Nemov</td>\n",
       "      <td>24.0</td>\n",
       "      <td>Russia</td>\n",
       "      <td>2000</td>\n",
       "      <td>Gymnastics</td>\n",
       "      <td>2</td>\n",
       "      <td>1</td>\n",
       "      <td>3</td>\n",
       "      <td>6</td>\n",
       "      <td>2000-10-01</td>\n",
       "    </tr>\n",
       "    <tr>\n",
       "      <th>...</th>\n",
       "      <td>...</td>\n",
       "      <td>...</td>\n",
       "      <td>...</td>\n",
       "      <td>...</td>\n",
       "      <td>...</td>\n",
       "      <td>...</td>\n",
       "      <td>...</td>\n",
       "      <td>...</td>\n",
       "      <td>...</td>\n",
       "      <td>...</td>\n",
       "    </tr>\n",
       "    <tr>\n",
       "      <th>8613</th>\n",
       "      <td>Olena Sadovnycha</td>\n",
       "      <td>32.0</td>\n",
       "      <td>Ukraine</td>\n",
       "      <td>2000</td>\n",
       "      <td>Archery</td>\n",
       "      <td>0</td>\n",
       "      <td>1</td>\n",
       "      <td>0</td>\n",
       "      <td>1</td>\n",
       "      <td>2000-10-01</td>\n",
       "    </tr>\n",
       "    <tr>\n",
       "      <th>8614</th>\n",
       "      <td>Kateryna Serdiuk</td>\n",
       "      <td>17.0</td>\n",
       "      <td>Ukraine</td>\n",
       "      <td>2000</td>\n",
       "      <td>Archery</td>\n",
       "      <td>0</td>\n",
       "      <td>1</td>\n",
       "      <td>0</td>\n",
       "      <td>1</td>\n",
       "      <td>2000-10-01</td>\n",
       "    </tr>\n",
       "    <tr>\n",
       "      <th>8615</th>\n",
       "      <td>Wietse van Alten</td>\n",
       "      <td>21.0</td>\n",
       "      <td>Netherlands</td>\n",
       "      <td>2000</td>\n",
       "      <td>Archery</td>\n",
       "      <td>0</td>\n",
       "      <td>0</td>\n",
       "      <td>1</td>\n",
       "      <td>1</td>\n",
       "      <td>2000-10-01</td>\n",
       "    </tr>\n",
       "    <tr>\n",
       "      <th>8616</th>\n",
       "      <td>Sandra Wagner-Sachse</td>\n",
       "      <td>31.0</td>\n",
       "      <td>Germany</td>\n",
       "      <td>2000</td>\n",
       "      <td>Archery</td>\n",
       "      <td>0</td>\n",
       "      <td>0</td>\n",
       "      <td>1</td>\n",
       "      <td>1</td>\n",
       "      <td>2000-10-01</td>\n",
       "    </tr>\n",
       "    <tr>\n",
       "      <th>8617</th>\n",
       "      <td>Rod White</td>\n",
       "      <td>23.0</td>\n",
       "      <td>United States</td>\n",
       "      <td>2000</td>\n",
       "      <td>Archery</td>\n",
       "      <td>0</td>\n",
       "      <td>0</td>\n",
       "      <td>1</td>\n",
       "      <td>1</td>\n",
       "      <td>2000-10-01</td>\n",
       "    </tr>\n",
       "  </tbody>\n",
       "</table>\n",
       "<p>8615 rows × 10 columns</p>\n",
       "</div>"
      ],
      "text/plain": [
       "                      name   age        country  year      sports  gold_medal  \\\n",
       "0           Michael Phelps  23.0  United States  2008    Swimming           8   \n",
       "1           Michael Phelps  19.0  United States  2004    Swimming           6   \n",
       "2           Michael Phelps  27.0  United States  2012    Swimming           4   \n",
       "3         Natalie Coughlin  25.0  United States  2008    Swimming           1   \n",
       "4            Aleksey Nemov  24.0         Russia  2000  Gymnastics           2   \n",
       "...                    ...   ...            ...   ...         ...         ...   \n",
       "8613      Olena Sadovnycha  32.0        Ukraine  2000     Archery           0   \n",
       "8614      Kateryna Serdiuk  17.0        Ukraine  2000     Archery           0   \n",
       "8615      Wietse van Alten  21.0    Netherlands  2000     Archery           0   \n",
       "8616  Sandra Wagner-Sachse  31.0        Germany  2000     Archery           0   \n",
       "8617             Rod White  23.0  United States  2000     Archery           0   \n",
       "\n",
       "      silver_medal  brone_medal  total_medal       Date  \n",
       "0                0            0            8 2008-08-24  \n",
       "1                0            2            8 2004-08-29  \n",
       "2                2            0            6 2012-08-12  \n",
       "3                2            3            6 2008-08-24  \n",
       "4                1            3            6 2000-10-01  \n",
       "...            ...          ...          ...        ...  \n",
       "8613             1            0            1 2000-10-01  \n",
       "8614             1            0            1 2000-10-01  \n",
       "8615             0            1            1 2000-10-01  \n",
       "8616             0            1            1 2000-10-01  \n",
       "8617             0            1            1 2000-10-01  \n",
       "\n",
       "[8615 rows x 10 columns]"
      ]
     },
     "execution_count": 12,
     "metadata": {},
     "output_type": "execute_result"
    }
   ],
   "source": [
    "# dropping the duplicate observations\n",
    "olympic.drop_duplicates()"
   ]
  },
  {
   "cell_type": "markdown",
   "id": "6b9572d3",
   "metadata": {},
   "source": [
    "#### After dropping duplicates we can see that number of observation got reduced to 8615 from 8618 therefore there were 3 duplicates observation were present."
   ]
  },
  {
   "cell_type": "code",
   "execution_count": 13,
   "id": "8e6f22e7",
   "metadata": {},
   "outputs": [
    {
     "data": {
      "text/html": [
       "<div>\n",
       "<style scoped>\n",
       "    .dataframe tbody tr th:only-of-type {\n",
       "        vertical-align: middle;\n",
       "    }\n",
       "\n",
       "    .dataframe tbody tr th {\n",
       "        vertical-align: top;\n",
       "    }\n",
       "\n",
       "    .dataframe thead th {\n",
       "        text-align: right;\n",
       "    }\n",
       "</style>\n",
       "<table border=\"1\" class=\"dataframe\">\n",
       "  <thead>\n",
       "    <tr style=\"text-align: right;\">\n",
       "      <th></th>\n",
       "      <th>age</th>\n",
       "      <th>year</th>\n",
       "      <th>gold_medal</th>\n",
       "      <th>silver_medal</th>\n",
       "      <th>brone_medal</th>\n",
       "      <th>total_medal</th>\n",
       "    </tr>\n",
       "  </thead>\n",
       "  <tbody>\n",
       "    <tr>\n",
       "      <th>count</th>\n",
       "      <td>8613.000000</td>\n",
       "      <td>8618.000000</td>\n",
       "      <td>8618.000000</td>\n",
       "      <td>8618.000000</td>\n",
       "      <td>8618.000000</td>\n",
       "      <td>8618.000000</td>\n",
       "    </tr>\n",
       "    <tr>\n",
       "      <th>mean</th>\n",
       "      <td>26.405434</td>\n",
       "      <td>2005.978881</td>\n",
       "      <td>0.364702</td>\n",
       "      <td>0.363309</td>\n",
       "      <td>0.377698</td>\n",
       "      <td>1.105709</td>\n",
       "    </tr>\n",
       "    <tr>\n",
       "      <th>std</th>\n",
       "      <td>5.102118</td>\n",
       "      <td>4.289946</td>\n",
       "      <td>0.545349</td>\n",
       "      <td>0.511613</td>\n",
       "      <td>0.505005</td>\n",
       "      <td>0.408892</td>\n",
       "    </tr>\n",
       "    <tr>\n",
       "      <th>min</th>\n",
       "      <td>15.000000</td>\n",
       "      <td>2000.000000</td>\n",
       "      <td>0.000000</td>\n",
       "      <td>0.000000</td>\n",
       "      <td>0.000000</td>\n",
       "      <td>1.000000</td>\n",
       "    </tr>\n",
       "    <tr>\n",
       "      <th>25%</th>\n",
       "      <td>23.000000</td>\n",
       "      <td>2002.000000</td>\n",
       "      <td>0.000000</td>\n",
       "      <td>0.000000</td>\n",
       "      <td>0.000000</td>\n",
       "      <td>1.000000</td>\n",
       "    </tr>\n",
       "    <tr>\n",
       "      <th>50%</th>\n",
       "      <td>26.000000</td>\n",
       "      <td>2006.000000</td>\n",
       "      <td>0.000000</td>\n",
       "      <td>0.000000</td>\n",
       "      <td>0.000000</td>\n",
       "      <td>1.000000</td>\n",
       "    </tr>\n",
       "    <tr>\n",
       "      <th>75%</th>\n",
       "      <td>29.000000</td>\n",
       "      <td>2010.000000</td>\n",
       "      <td>1.000000</td>\n",
       "      <td>1.000000</td>\n",
       "      <td>1.000000</td>\n",
       "      <td>1.000000</td>\n",
       "    </tr>\n",
       "    <tr>\n",
       "      <th>max</th>\n",
       "      <td>61.000000</td>\n",
       "      <td>2012.000000</td>\n",
       "      <td>8.000000</td>\n",
       "      <td>3.000000</td>\n",
       "      <td>3.000000</td>\n",
       "      <td>8.000000</td>\n",
       "    </tr>\n",
       "  </tbody>\n",
       "</table>\n",
       "</div>"
      ],
      "text/plain": [
       "               age         year   gold_medal  silver_medal  brone_medal  \\\n",
       "count  8613.000000  8618.000000  8618.000000   8618.000000  8618.000000   \n",
       "mean     26.405434  2005.978881     0.364702      0.363309     0.377698   \n",
       "std       5.102118     4.289946     0.545349      0.511613     0.505005   \n",
       "min      15.000000  2000.000000     0.000000      0.000000     0.000000   \n",
       "25%      23.000000  2002.000000     0.000000      0.000000     0.000000   \n",
       "50%      26.000000  2006.000000     0.000000      0.000000     0.000000   \n",
       "75%      29.000000  2010.000000     1.000000      1.000000     1.000000   \n",
       "max      61.000000  2012.000000     8.000000      3.000000     3.000000   \n",
       "\n",
       "       total_medal  \n",
       "count  8618.000000  \n",
       "mean      1.105709  \n",
       "std       0.408892  \n",
       "min       1.000000  \n",
       "25%       1.000000  \n",
       "50%       1.000000  \n",
       "75%       1.000000  \n",
       "max       8.000000  "
      ]
     },
     "execution_count": 13,
     "metadata": {},
     "output_type": "execute_result"
    }
   ],
   "source": [
    "# calling describe function to get 5 point summary of the dataset\n",
    "olympic.describe()"
   ]
  },
  {
   "cell_type": "markdown",
   "id": "d75ce57f",
   "metadata": {},
   "source": [
    "#### Above table describes that the:\n",
    "#### 1. Maximum number of gold medal won by a player in a year in a sport is 8 .\n",
    "#### 2. Maximum number of Silver medal won by a player in a year in a sport is 3 .\n",
    "#### 3. Maximum number of bronze medal won by a player in a year in a sport is 3 .\n",
    "#### 4. Age of the oldest player is 61\n",
    "#### 5. Age of the youngest player is 15\n",
    "#### 6. In the dataset given there is no single player who have not wone at least one medal in the year of participation and the sports, because minimum of total_medal is 1 that means 1 medal has been won by all the players in the list \n"
   ]
  },
  {
   "cell_type": "code",
   "execution_count": 14,
   "id": "189b2218",
   "metadata": {},
   "outputs": [
    {
     "data": {
      "text/plain": [
       "<AxesSubplot:>"
      ]
     },
     "execution_count": 14,
     "metadata": {},
     "output_type": "execute_result"
    },
    {
     "data": {
      "image/png": "[encoded data removed]",
      "text/plain": [
       "<Figure size 1800x720 with 3 Axes>"
      ]
     },
     "metadata": {
      "needs_background": "light"
     },
     "output_type": "display_data"
    }
   ],
   "source": [
    "#importing Missingno to get more detailed information about the missing values\n",
    "import missingno as msno\n",
    "msno.bar(olympic)"
   ]
  },
  {
   "cell_type": "markdown",
   "id": "fef7512e",
   "metadata": {},
   "source": [
    "#### From above missing value bar graph we can find that the name and age of 5 observation is missing."
   ]
  },
  {
   "cell_type": "code",
   "execution_count": 15,
   "id": "a2c77b6d",
   "metadata": {},
   "outputs": [],
   "source": [
    "#to replace any balnk or special character of the mssing value to nan\n",
    "olympic=olympic.replace(r'^\\s*$', np.nan, regex=True)"
   ]
  },
  {
   "cell_type": "code",
   "execution_count": 16,
   "id": "8e34f221",
   "metadata": {},
   "outputs": [
    {
     "data": {
      "text/html": [
       "<div>\n",
       "<style scoped>\n",
       "    .dataframe tbody tr th:only-of-type {\n",
       "        vertical-align: middle;\n",
       "    }\n",
       "\n",
       "    .dataframe tbody tr th {\n",
       "        vertical-align: top;\n",
       "    }\n",
       "\n",
       "    .dataframe thead th {\n",
       "        text-align: right;\n",
       "    }\n",
       "</style>\n",
       "<table border=\"1\" class=\"dataframe\">\n",
       "  <thead>\n",
       "    <tr style=\"text-align: right;\">\n",
       "      <th></th>\n",
       "      <th>name</th>\n",
       "      <th>age</th>\n",
       "      <th>country</th>\n",
       "      <th>year</th>\n",
       "      <th>sports</th>\n",
       "      <th>gold_medal</th>\n",
       "      <th>silver_medal</th>\n",
       "      <th>brone_medal</th>\n",
       "      <th>total_medal</th>\n",
       "      <th>Date</th>\n",
       "    </tr>\n",
       "  </thead>\n",
       "  <tbody>\n",
       "    <tr>\n",
       "      <th>0</th>\n",
       "      <td>Michael Phelps</td>\n",
       "      <td>23.0</td>\n",
       "      <td>United States</td>\n",
       "      <td>2008</td>\n",
       "      <td>Swimming</td>\n",
       "      <td>8</td>\n",
       "      <td>0</td>\n",
       "      <td>0</td>\n",
       "      <td>8</td>\n",
       "      <td>2008-08-24</td>\n",
       "    </tr>\n",
       "    <tr>\n",
       "      <th>1</th>\n",
       "      <td>Michael Phelps</td>\n",
       "      <td>19.0</td>\n",
       "      <td>United States</td>\n",
       "      <td>2004</td>\n",
       "      <td>Swimming</td>\n",
       "      <td>6</td>\n",
       "      <td>0</td>\n",
       "      <td>2</td>\n",
       "      <td>8</td>\n",
       "      <td>2004-08-29</td>\n",
       "    </tr>\n",
       "    <tr>\n",
       "      <th>2</th>\n",
       "      <td>Michael Phelps</td>\n",
       "      <td>27.0</td>\n",
       "      <td>United States</td>\n",
       "      <td>2012</td>\n",
       "      <td>Swimming</td>\n",
       "      <td>4</td>\n",
       "      <td>2</td>\n",
       "      <td>0</td>\n",
       "      <td>6</td>\n",
       "      <td>2012-08-12</td>\n",
       "    </tr>\n",
       "    <tr>\n",
       "      <th>3</th>\n",
       "      <td>Natalie Coughlin</td>\n",
       "      <td>25.0</td>\n",
       "      <td>United States</td>\n",
       "      <td>2008</td>\n",
       "      <td>Swimming</td>\n",
       "      <td>1</td>\n",
       "      <td>2</td>\n",
       "      <td>3</td>\n",
       "      <td>6</td>\n",
       "      <td>2008-08-24</td>\n",
       "    </tr>\n",
       "    <tr>\n",
       "      <th>4</th>\n",
       "      <td>Aleksey Nemov</td>\n",
       "      <td>24.0</td>\n",
       "      <td>Russia</td>\n",
       "      <td>2000</td>\n",
       "      <td>Gymnastics</td>\n",
       "      <td>2</td>\n",
       "      <td>1</td>\n",
       "      <td>3</td>\n",
       "      <td>6</td>\n",
       "      <td>2000-10-01</td>\n",
       "    </tr>\n",
       "    <tr>\n",
       "      <th>...</th>\n",
       "      <td>...</td>\n",
       "      <td>...</td>\n",
       "      <td>...</td>\n",
       "      <td>...</td>\n",
       "      <td>...</td>\n",
       "      <td>...</td>\n",
       "      <td>...</td>\n",
       "      <td>...</td>\n",
       "      <td>...</td>\n",
       "      <td>...</td>\n",
       "    </tr>\n",
       "    <tr>\n",
       "      <th>8613</th>\n",
       "      <td>Olena Sadovnycha</td>\n",
       "      <td>32.0</td>\n",
       "      <td>Ukraine</td>\n",
       "      <td>2000</td>\n",
       "      <td>Archery</td>\n",
       "      <td>0</td>\n",
       "      <td>1</td>\n",
       "      <td>0</td>\n",
       "      <td>1</td>\n",
       "      <td>2000-10-01</td>\n",
       "    </tr>\n",
       "    <tr>\n",
       "      <th>8614</th>\n",
       "      <td>Kateryna Serdiuk</td>\n",
       "      <td>17.0</td>\n",
       "      <td>Ukraine</td>\n",
       "      <td>2000</td>\n",
       "      <td>Archery</td>\n",
       "      <td>0</td>\n",
       "      <td>1</td>\n",
       "      <td>0</td>\n",
       "      <td>1</td>\n",
       "      <td>2000-10-01</td>\n",
       "    </tr>\n",
       "    <tr>\n",
       "      <th>8615</th>\n",
       "      <td>Wietse van Alten</td>\n",
       "      <td>21.0</td>\n",
       "      <td>Netherlands</td>\n",
       "      <td>2000</td>\n",
       "      <td>Archery</td>\n",
       "      <td>0</td>\n",
       "      <td>0</td>\n",
       "      <td>1</td>\n",
       "      <td>1</td>\n",
       "      <td>2000-10-01</td>\n",
       "    </tr>\n",
       "    <tr>\n",
       "      <th>8616</th>\n",
       "      <td>Sandra Wagner-Sachse</td>\n",
       "      <td>31.0</td>\n",
       "      <td>Germany</td>\n",
       "      <td>2000</td>\n",
       "      <td>Archery</td>\n",
       "      <td>0</td>\n",
       "      <td>0</td>\n",
       "      <td>1</td>\n",
       "      <td>1</td>\n",
       "      <td>2000-10-01</td>\n",
       "    </tr>\n",
       "    <tr>\n",
       "      <th>8617</th>\n",
       "      <td>Rod White</td>\n",
       "      <td>23.0</td>\n",
       "      <td>United States</td>\n",
       "      <td>2000</td>\n",
       "      <td>Archery</td>\n",
       "      <td>0</td>\n",
       "      <td>0</td>\n",
       "      <td>1</td>\n",
       "      <td>1</td>\n",
       "      <td>2000-10-01</td>\n",
       "    </tr>\n",
       "  </tbody>\n",
       "</table>\n",
       "<p>8613 rows × 10 columns</p>\n",
       "</div>"
      ],
      "text/plain": [
       "                      name   age        country  year      sports  gold_medal  \\\n",
       "0           Michael Phelps  23.0  United States  2008    Swimming           8   \n",
       "1           Michael Phelps  19.0  United States  2004    Swimming           6   \n",
       "2           Michael Phelps  27.0  United States  2012    Swimming           4   \n",
       "3         Natalie Coughlin  25.0  United States  2008    Swimming           1   \n",
       "4            Aleksey Nemov  24.0         Russia  2000  Gymnastics           2   \n",
       "...                    ...   ...            ...   ...         ...         ...   \n",
       "8613      Olena Sadovnycha  32.0        Ukraine  2000     Archery           0   \n",
       "8614      Kateryna Serdiuk  17.0        Ukraine  2000     Archery           0   \n",
       "8615      Wietse van Alten  21.0    Netherlands  2000     Archery           0   \n",
       "8616  Sandra Wagner-Sachse  31.0        Germany  2000     Archery           0   \n",
       "8617             Rod White  23.0  United States  2000     Archery           0   \n",
       "\n",
       "      silver_medal  brone_medal  total_medal       Date  \n",
       "0                0            0            8 2008-08-24  \n",
       "1                0            2            8 2004-08-29  \n",
       "2                2            0            6 2012-08-12  \n",
       "3                2            3            6 2008-08-24  \n",
       "4                1            3            6 2000-10-01  \n",
       "...            ...          ...          ...        ...  \n",
       "8613             1            0            1 2000-10-01  \n",
       "8614             1            0            1 2000-10-01  \n",
       "8615             0            1            1 2000-10-01  \n",
       "8616             0            1            1 2000-10-01  \n",
       "8617             0            1            1 2000-10-01  \n",
       "\n",
       "[8613 rows x 10 columns]"
      ]
     },
     "execution_count": 16,
     "metadata": {},
     "output_type": "execute_result"
    }
   ],
   "source": [
    "# droppig the missing values observation\n",
    "olympic.dropna()"
   ]
  },
  {
   "cell_type": "markdown",
   "id": "acd8b8e0",
   "metadata": {},
   "source": [
    "#### After dealing with missing values and dropping it , we are left with 8613 observation for further analysis"
   ]
  },
  {
   "cell_type": "code",
   "execution_count": 17,
   "id": "3788ea4d",
   "metadata": {},
   "outputs": [],
   "source": [
    "# removoing the special characters from the name by listing the special characters in the lit and replacing it with blank.\n",
    "olympic['name']=olympic['name'].str.replace('[-,.,%]','',regex=True)\n"
   ]
  },
  {
   "cell_type": "code",
   "execution_count": 18,
   "id": "2861d45e",
   "metadata": {},
   "outputs": [
    {
     "data": {
      "text/html": [
       "<div>\n",
       "<style scoped>\n",
       "    .dataframe tbody tr th:only-of-type {\n",
       "        vertical-align: middle;\n",
       "    }\n",
       "\n",
       "    .dataframe tbody tr th {\n",
       "        vertical-align: top;\n",
       "    }\n",
       "\n",
       "    .dataframe thead th {\n",
       "        text-align: right;\n",
       "    }\n",
       "</style>\n",
       "<table border=\"1\" class=\"dataframe\">\n",
       "  <thead>\n",
       "    <tr style=\"text-align: right;\">\n",
       "      <th></th>\n",
       "      <th>name</th>\n",
       "      <th>age</th>\n",
       "      <th>country</th>\n",
       "      <th>year</th>\n",
       "      <th>sports</th>\n",
       "      <th>gold_medal</th>\n",
       "      <th>silver_medal</th>\n",
       "      <th>brone_medal</th>\n",
       "      <th>total_medal</th>\n",
       "      <th>Date</th>\n",
       "    </tr>\n",
       "  </thead>\n",
       "  <tbody>\n",
       "    <tr>\n",
       "      <th>0</th>\n",
       "      <td>Michael Phelps</td>\n",
       "      <td>23.0</td>\n",
       "      <td>United States</td>\n",
       "      <td>2008</td>\n",
       "      <td>Swimming</td>\n",
       "      <td>8</td>\n",
       "      <td>0</td>\n",
       "      <td>0</td>\n",
       "      <td>8</td>\n",
       "      <td>2008-08-24</td>\n",
       "    </tr>\n",
       "    <tr>\n",
       "      <th>1</th>\n",
       "      <td>Michael Phelps</td>\n",
       "      <td>19.0</td>\n",
       "      <td>United States</td>\n",
       "      <td>2004</td>\n",
       "      <td>Swimming</td>\n",
       "      <td>6</td>\n",
       "      <td>0</td>\n",
       "      <td>2</td>\n",
       "      <td>8</td>\n",
       "      <td>2004-08-29</td>\n",
       "    </tr>\n",
       "    <tr>\n",
       "      <th>2</th>\n",
       "      <td>Michael Phelps</td>\n",
       "      <td>27.0</td>\n",
       "      <td>United States</td>\n",
       "      <td>2012</td>\n",
       "      <td>Swimming</td>\n",
       "      <td>4</td>\n",
       "      <td>2</td>\n",
       "      <td>0</td>\n",
       "      <td>6</td>\n",
       "      <td>2012-08-12</td>\n",
       "    </tr>\n",
       "    <tr>\n",
       "      <th>3</th>\n",
       "      <td>Natalie Coughlin</td>\n",
       "      <td>25.0</td>\n",
       "      <td>United States</td>\n",
       "      <td>2008</td>\n",
       "      <td>Swimming</td>\n",
       "      <td>1</td>\n",
       "      <td>2</td>\n",
       "      <td>3</td>\n",
       "      <td>6</td>\n",
       "      <td>2008-08-24</td>\n",
       "    </tr>\n",
       "    <tr>\n",
       "      <th>4</th>\n",
       "      <td>Aleksey Nemov</td>\n",
       "      <td>24.0</td>\n",
       "      <td>Russia</td>\n",
       "      <td>2000</td>\n",
       "      <td>Gymnastics</td>\n",
       "      <td>2</td>\n",
       "      <td>1</td>\n",
       "      <td>3</td>\n",
       "      <td>6</td>\n",
       "      <td>2000-10-01</td>\n",
       "    </tr>\n",
       "    <tr>\n",
       "      <th>...</th>\n",
       "      <td>...</td>\n",
       "      <td>...</td>\n",
       "      <td>...</td>\n",
       "      <td>...</td>\n",
       "      <td>...</td>\n",
       "      <td>...</td>\n",
       "      <td>...</td>\n",
       "      <td>...</td>\n",
       "      <td>...</td>\n",
       "      <td>...</td>\n",
       "    </tr>\n",
       "    <tr>\n",
       "      <th>8613</th>\n",
       "      <td>Olena Sadovnycha</td>\n",
       "      <td>32.0</td>\n",
       "      <td>Ukraine</td>\n",
       "      <td>2000</td>\n",
       "      <td>Archery</td>\n",
       "      <td>0</td>\n",
       "      <td>1</td>\n",
       "      <td>0</td>\n",
       "      <td>1</td>\n",
       "      <td>2000-10-01</td>\n",
       "    </tr>\n",
       "    <tr>\n",
       "      <th>8614</th>\n",
       "      <td>Kateryna Serdiuk</td>\n",
       "      <td>17.0</td>\n",
       "      <td>Ukraine</td>\n",
       "      <td>2000</td>\n",
       "      <td>Archery</td>\n",
       "      <td>0</td>\n",
       "      <td>1</td>\n",
       "      <td>0</td>\n",
       "      <td>1</td>\n",
       "      <td>2000-10-01</td>\n",
       "    </tr>\n",
       "    <tr>\n",
       "      <th>8615</th>\n",
       "      <td>Wietse van Alten</td>\n",
       "      <td>21.0</td>\n",
       "      <td>Netherlands</td>\n",
       "      <td>2000</td>\n",
       "      <td>Archery</td>\n",
       "      <td>0</td>\n",
       "      <td>0</td>\n",
       "      <td>1</td>\n",
       "      <td>1</td>\n",
       "      <td>2000-10-01</td>\n",
       "    </tr>\n",
       "    <tr>\n",
       "      <th>8616</th>\n",
       "      <td>Sandra WagnerSachse</td>\n",
       "      <td>31.0</td>\n",
       "      <td>Germany</td>\n",
       "      <td>2000</td>\n",
       "      <td>Archery</td>\n",
       "      <td>0</td>\n",
       "      <td>0</td>\n",
       "      <td>1</td>\n",
       "      <td>1</td>\n",
       "      <td>2000-10-01</td>\n",
       "    </tr>\n",
       "    <tr>\n",
       "      <th>8617</th>\n",
       "      <td>Rod White</td>\n",
       "      <td>23.0</td>\n",
       "      <td>United States</td>\n",
       "      <td>2000</td>\n",
       "      <td>Archery</td>\n",
       "      <td>0</td>\n",
       "      <td>0</td>\n",
       "      <td>1</td>\n",
       "      <td>1</td>\n",
       "      <td>2000-10-01</td>\n",
       "    </tr>\n",
       "  </tbody>\n",
       "</table>\n",
       "<p>8618 rows × 10 columns</p>\n",
       "</div>"
      ],
      "text/plain": [
       "                     name   age        country  year      sports  gold_medal  \\\n",
       "0          Michael Phelps  23.0  United States  2008    Swimming           8   \n",
       "1          Michael Phelps  19.0  United States  2004    Swimming           6   \n",
       "2          Michael Phelps  27.0  United States  2012    Swimming           4   \n",
       "3        Natalie Coughlin  25.0  United States  2008    Swimming           1   \n",
       "4           Aleksey Nemov  24.0         Russia  2000  Gymnastics           2   \n",
       "...                   ...   ...            ...   ...         ...         ...   \n",
       "8613     Olena Sadovnycha  32.0        Ukraine  2000     Archery           0   \n",
       "8614     Kateryna Serdiuk  17.0        Ukraine  2000     Archery           0   \n",
       "8615     Wietse van Alten  21.0    Netherlands  2000     Archery           0   \n",
       "8616  Sandra WagnerSachse  31.0        Germany  2000     Archery           0   \n",
       "8617            Rod White  23.0  United States  2000     Archery           0   \n",
       "\n",
       "      silver_medal  brone_medal  total_medal       Date  \n",
       "0                0            0            8 2008-08-24  \n",
       "1                0            2            8 2004-08-29  \n",
       "2                2            0            6 2012-08-12  \n",
       "3                2            3            6 2008-08-24  \n",
       "4                1            3            6 2000-10-01  \n",
       "...            ...          ...          ...        ...  \n",
       "8613             1            0            1 2000-10-01  \n",
       "8614             1            0            1 2000-10-01  \n",
       "8615             0            1            1 2000-10-01  \n",
       "8616             0            1            1 2000-10-01  \n",
       "8617             0            1            1 2000-10-01  \n",
       "\n",
       "[8618 rows x 10 columns]"
      ]
     },
     "execution_count": 18,
     "metadata": {},
     "output_type": "execute_result"
    }
   ],
   "source": [
    "olympic"
   ]
  },
  {
   "cell_type": "code",
   "execution_count": 19,
   "id": "528e9d5a",
   "metadata": {},
   "outputs": [],
   "source": [
    "#Exporting the cleaned dataset for further analysis in SQl and pysaprk\n",
    "olympic.to_csv('olympix_data.csv')"
   ]
  },
  {
   "cell_type": "markdown",
   "id": "e49da280",
   "metadata": {},
   "source": [
    "### Univariate Analysis\n"
   ]
  },
  {
   "cell_type": "code",
   "execution_count": 20,
   "id": "13014492",
   "metadata": {},
   "outputs": [
    {
     "data": {
      "text/plain": [
       "Text(0.5, 0, 'sports')"
      ]
     },
     "execution_count": 20,
     "metadata": {},
     "output_type": "execute_result"
    },
    {
     "data": {
      "image/png": "[encoded data removed]",
      "text/plain": [
       "<Figure size 1296x360 with 1 Axes>"
      ]
     },
     "metadata": {
      "needs_background": "light"
     },
     "output_type": "display_data"
    }
   ],
   "source": [
    "import matplotlib.pyplot as plt\n",
    "f, ax = plt.subplots(figsize=(18,5))\n",
    "ax=sns.countplot(x='sports',data=olympic)\n",
    "ax.tick_params(axis='x', labelrotation=45)\n",
    "# to set the title of the plot\n",
    "plt.title(\"count of each sports\")\n",
    "#to set the label of the y-axis\n",
    "plt.ylabel(\"Total participation\")\n",
    "#to set the label of x-axis\n",
    "plt.xlabel(\"sports\")"
   ]
  },
  {
   "cell_type": "markdown",
   "id": "e0818886",
   "metadata": {},
   "source": [
    "#### The above represents that the maxium participation  was in Atheletics in comparison to others"
   ]
  },
  {
   "cell_type": "code",
   "execution_count": 21,
   "id": "12620bfc",
   "metadata": {},
   "outputs": [
    {
     "data": {
      "text/plain": [
       "Text(0.5, 0, 'Gold Medal')"
      ]
     },
     "execution_count": 21,
     "metadata": {},
     "output_type": "execute_result"
    },
    {
     "data": {
      "image/png": "[encoded data removed]",
      "text/plain": [
       "<Figure size 1296x360 with 1 Axes>"
      ]
     },
     "metadata": {
      "needs_background": "light"
     },
     "output_type": "display_data"
    }
   ],
   "source": [
    "import matplotlib.pyplot as plt\n",
    "f, ax = plt.subplots(figsize=(18,5))\n",
    "ax=sns.countplot(x='gold_medal',data=olympic)\n",
    "ax.tick_params(axis='x', labelrotation=45)\n",
    "# to set the title of the plot\n",
    "plt.title(\"Number of gold Medal\")\n",
    "#to set the label of the y-axis\n",
    "plt.ylabel(\"Total Winning count\")\n",
    "#to set the label of x-axis\n",
    "plt.xlabel(\"Gold Medal\")"
   ]
  },
  {
   "cell_type": "markdown",
   "id": "a46e4c79",
   "metadata": {},
   "source": [
    "#### From the above count we can see that maximum count is of 0 means they have not won gold medal and the count for 4,6 and 8 gold medal is none."
   ]
  },
  {
   "cell_type": "code",
   "execution_count": 22,
   "id": "e7f3d33e",
   "metadata": {},
   "outputs": [
    {
     "data": {
      "text/plain": [
       "Text(0.5, 0, 'Silver Medal')"
      ]
     },
     "execution_count": 22,
     "metadata": {},
     "output_type": "execute_result"
    },
    {
     "data": {
      "image/png": "[encoded data removed]",
      "text/plain": [
       "<Figure size 1296x360 with 1 Axes>"
      ]
     },
     "metadata": {
      "needs_background": "light"
     },
     "output_type": "display_data"
    }
   ],
   "source": [
    "import matplotlib.pyplot as plt\n",
    "f, ax = plt.subplots(figsize=(18,5))\n",
    "ax=sns.countplot(x='silver_medal',data=olympic)\n",
    "ax.tick_params(axis='x', labelrotation=45)\n",
    "# to set the title of the plot\n",
    "plt.title(\"Number of Silver Medal\")\n",
    "#to set the label of the y-axis\n",
    "plt.ylabel(\"Total Winning count\")\n",
    "#to set the label of x-axis\n",
    "plt.xlabel(\"Silver Medal\")"
   ]
  },
  {
   "cell_type": "markdown",
   "id": "68ea1410",
   "metadata": {},
   "source": [
    "#### From the above count we can see that maximum count is of 0 means they have not won silver medal and the count for 3 silver medal is none. "
   ]
  },
  {
   "cell_type": "code",
   "execution_count": 23,
   "id": "4968c033",
   "metadata": {},
   "outputs": [
    {
     "data": {
      "text/plain": [
       "Text(0.5, 0, 'Bronze Medal')"
      ]
     },
     "execution_count": 23,
     "metadata": {},
     "output_type": "execute_result"
    },
    {
     "data": {
      "image/png": "[encoded data removed]",
      "text/plain": [
       "<Figure size 1296x360 with 1 Axes>"
      ]
     },
     "metadata": {
      "needs_background": "light"
     },
     "output_type": "display_data"
    }
   ],
   "source": [
    "import matplotlib.pyplot as plt\n",
    "f, ax = plt.subplots(figsize=(18,5))\n",
    "ax=sns.countplot(x='brone_medal',data=olympic)\n",
    "ax.tick_params(axis='x', labelrotation=45)\n",
    "# to set the title of the plot\n",
    "plt.title(\"Number of Bronze Medal\")\n",
    "#to set the label of the y-axis\n",
    "plt.ylabel(\"Total Winning count\")\n",
    "#to set the label of x-axis\n",
    "plt.xlabel(\"Bronze Medal\")"
   ]
  },
  {
   "cell_type": "markdown",
   "id": "53cf3047",
   "metadata": {},
   "source": [
    "####  From the above count we can see that maximum count is of 0 means they have not won Bronze medal and the count for 3 Bronze medal is none. "
   ]
  },
  {
   "cell_type": "code",
   "execution_count": 24,
   "id": "0bc426a3",
   "metadata": {},
   "outputs": [
    {
     "data": {
      "text/plain": [
       "Text(0.5, 0, 'Total Medal')"
      ]
     },
     "execution_count": 24,
     "metadata": {},
     "output_type": "execute_result"
    },
    {
     "data": {
      "image/png": "[encoded data removed]",
      "text/plain": [
       "<Figure size 1296x360 with 1 Axes>"
      ]
     },
     "metadata": {
      "needs_background": "light"
     },
     "output_type": "display_data"
    }
   ],
   "source": [
    "import matplotlib.pyplot as plt\n",
    "f, ax = plt.subplots(figsize=(18,5))\n",
    "ax=sns.countplot(x='total_medal',data=olympic)\n",
    "ax.tick_params(axis='x', labelrotation=45)\n",
    "# to set the title of the plot\n",
    "plt.title(\"Number of Total Medal\")\n",
    "#to set the label of the y-axis\n",
    "plt.ylabel(\"Total Winning count\")\n",
    "#to set the label of x-axis\n",
    "plt.xlabel(\"Total Medal\")"
   ]
  },
  {
   "cell_type": "markdown",
   "id": "7dfa9216",
   "metadata": {},
   "source": [
    "#### From the above graph we can see that maximum count is for total medal 1 "
   ]
  },
  {
   "cell_type": "markdown",
   "id": "5c5f499c",
   "metadata": {},
   "source": [
    "### Bivariate Analysis"
   ]
  },
  {
   "cell_type": "code",
   "execution_count": 25,
   "id": "97a04a60",
   "metadata": {},
   "outputs": [
    {
     "data": {
      "text/plain": [
       "Text(0.5, 0, 'Sports')"
      ]
     },
     "execution_count": 25,
     "metadata": {},
     "output_type": "execute_result"
    },
    {
     "data": {
      "image/png": "[encoded data removed]",
      "text/plain": [
       "<Figure size 1296x360 with 1 Axes>"
      ]
     },
     "metadata": {
      "needs_background": "light"
     },
     "output_type": "display_data"
    }
   ],
   "source": [
    "import matplotlib.pyplot as plt\n",
    "f, ax = plt.subplots(figsize=(18,5))\n",
    "ax=sns.barplot(x='sports',y='gold_medal',data=olympic)\n",
    "ax.tick_params(axis='x', labelrotation=45)\n",
    "# to set the title of the plot\n",
    "plt.title(\"Number of Total Medal\")\n",
    "#to set the label of the y-axis\n",
    "plt.ylabel(\"Total Winning count\")\n",
    "#to set the label of x-axis\n",
    "plt.xlabel(\"Sports\")"
   ]
  },
  {
   "cell_type": "markdown",
   "id": "84ec9c20",
   "metadata": {},
   "source": [
    "#### From above graph we can visualize that the maximum won of gold medal is from swimming sports."
   ]
  },
  {
   "cell_type": "code",
   "execution_count": 26,
   "id": "0d8d75ea",
   "metadata": {},
   "outputs": [
    {
     "data": {
      "text/plain": [
       "Text(0.5, 0, 'Sports')"
      ]
     },
     "execution_count": 26,
     "metadata": {},
     "output_type": "execute_result"
    },
    {
     "data": {
      "image/png": "[encoded data removed]",
      "text/plain": [
       "<Figure size 1296x360 with 1 Axes>"
      ]
     },
     "metadata": {
      "needs_background": "light"
     },
     "output_type": "display_data"
    }
   ],
   "source": [
    "import matplotlib.pyplot as plt\n",
    "f, ax = plt.subplots(figsize=(18,5))\n",
    "ax=sns.barplot(x='sports',y='silver_medal',data=olympic)\n",
    "ax.tick_params(axis='x', labelrotation=45)\n",
    "# to set the title of the plot\n",
    "plt.title(\"Number of Total Medal\")\n",
    "#to set the label of the y-axis\n",
    "plt.ylabel(\"Total Winning count\")\n",
    "#to set the label of x-axis\n",
    "plt.xlabel(\"Sports\")"
   ]
  },
  {
   "cell_type": "markdown",
   "id": "75b310ad",
   "metadata": {},
   "source": [
    "#### From above graph we can visualize that the maximum won of Silver medal is from swimming sports."
   ]
  },
  {
   "cell_type": "code",
   "execution_count": 27,
   "id": "bfed67ca",
   "metadata": {},
   "outputs": [
    {
     "data": {
      "text/plain": [
       "Text(0.5, 0, 'Sports')"
      ]
     },
     "execution_count": 27,
     "metadata": {},
     "output_type": "execute_result"
    },
    {
     "data": {
      "image/png": "[encoded data removed]",
      "text/plain": [
       "<Figure size 1296x360 with 1 Axes>"
      ]
     },
     "metadata": {
      "needs_background": "light"
     },
     "output_type": "display_data"
    }
   ],
   "source": [
    "import matplotlib.pyplot as plt\n",
    "f, ax = plt.subplots(figsize=(18,5))\n",
    "ax=sns.barplot(x='sports',y='brone_medal',data=olympic)\n",
    "ax.tick_params(axis='x', labelrotation=45)\n",
    "# to set the title of the plot\n",
    "plt.title(\"Number of Total Medal\")\n",
    "#to set the label of the y-axis\n",
    "plt.ylabel(\"Total Winning count\")\n",
    "#to set the label of x-axis\n",
    "plt.xlabel(\"Sports\")"
   ]
  },
  {
   "cell_type": "markdown",
   "id": "4e3769c5",
   "metadata": {},
   "source": [
    "#### From above graph we can visualize that the maximum won of bronze medal is from Boxing and judo sports."
   ]
  },
  {
   "cell_type": "code",
   "execution_count": 28,
   "id": "cae1614d",
   "metadata": {},
   "outputs": [
    {
     "data": {
      "text/plain": [
       "<matplotlib.legend.Legend at 0x2b4e8c7cbb0>"
      ]
     },
     "execution_count": 28,
     "metadata": {},
     "output_type": "execute_result"
    },
    {
     "data": {
      "image/png": "[encoded data removed]",
      "text/plain": [
       "<Figure size 432x288 with 1 Axes>"
      ]
     },
     "metadata": {
      "needs_background": "light"
     },
     "output_type": "display_data"
    }
   ],
   "source": [
    "#Plotting Histplot of the column age to find the skewness of the column\n",
    "sns.histplot(olympic['age'],kde=True)\n",
    "plt.axvline(x=np.mean(olympic['age']), c='red', ls='--', label='mean')\n",
    "plt.axvline(x=np.percentile(olympic['age'],25),c='green', ls='--', label = '25th percentile:Q1')\n",
    "plt.axvline(x=np.percentile(olympic['age'],50),c='cyan', ls='--', label = '50th percentile:Q2')\n",
    "plt.axvline(x=np.percentile(olympic['age'],75),c='orange', ls='--',label = '75th percentile:Q3' )\n",
    "plt.legend()"
   ]
  },
  {
   "cell_type": "markdown",
   "id": "876f132e",
   "metadata": {},
   "source": [
    "#### From above graph we can see that the age column is right skewed therefore it need to be transformed for unbiased analysis."
   ]
  },
  {
   "cell_type": "code",
   "execution_count": 29,
   "id": "9120c87a",
   "metadata": {},
   "outputs": [
    {
     "data": {
      "text/plain": [
       "0.8590070668484233"
      ]
     },
     "execution_count": 29,
     "metadata": {},
     "output_type": "execute_result"
    }
   ],
   "source": [
    "#to get the skeweness value\n",
    "olympic.age.skew(axis=0) "
   ]
  },
  {
   "cell_type": "markdown",
   "id": "e2f3d52a",
   "metadata": {},
   "source": [
    "#### As the skewness value is more beyond the range -0.5 to 0.5 therefore it is skewed as as it is 0.86 therefore it is right skewed"
   ]
  },
  {
   "cell_type": "markdown",
   "id": "6c07ddb4",
   "metadata": {},
   "source": [
    "## Transformation"
   ]
  },
  {
   "cell_type": "code",
   "execution_count": 30,
   "id": "91287f5c",
   "metadata": {},
   "outputs": [
    {
     "name": "stderr",
     "output_type": "stream",
     "text": [
      "C:\\Users\\Neha Mehlawat\\anaconda3\\lib\\site-packages\\seaborn\\distributions.py:2557: FutureWarning: `distplot` is a deprecated function and will be removed in a future version. Please adapt your code to use either `displot` (a figure-level function with similar flexibility) or `histplot` (an axes-level function for histograms).\n",
      "  warnings.warn(msg, FutureWarning)\n"
     ]
    },
    {
     "data": {
      "text/plain": [
       "<matplotlib.legend.Legend at 0x2b4e8f43a30>"
      ]
     },
     "execution_count": 30,
     "metadata": {},
     "output_type": "execute_result"
    },
    {
     "data": {
      "image/png": "[encoded data removed]",
      "text/plain": [
       "<Figure size 432x288 with 1 Axes>"
      ]
     },
     "metadata": {
      "needs_background": "light"
     },
     "output_type": "display_data"
    }
   ],
   "source": [
    "# transforming the column using log transformation \n",
    "olympic['age_log']=np.log(olympic['age'])\n",
    "#plotting again the histogram to see the transformed distribution of the age column\n",
    "sns.distplot(olympic['age_log'])\n",
    "plt.axvline(x=np.mean(olympic['age_log']), c='red', ls='--', label='mean')\n",
    "plt.axvline(x=np.percentile(olympic['age_log'],25),c='green', ls='--', label = '25th percentile:Q1')\n",
    "plt.axvline(x=np.percentile(olympic['age_log'],50),c='cyan', ls='--', label = '50th percentile:Q2')\n",
    "plt.axvline(x=np.percentile(olympic['age_log'],75),c='orange', ls='--',label = '75th percentile:Q3' )\n",
    "plt.legend()"
   ]
  },
  {
   "cell_type": "code",
   "execution_count": 31,
   "id": "811d1f8a",
   "metadata": {},
   "outputs": [
    {
     "data": {
      "text/plain": [
       "0.15484206252698843"
      ]
     },
     "execution_count": 31,
     "metadata": {},
     "output_type": "execute_result"
    }
   ],
   "source": [
    "#getting the skewness value after performing transformation\n",
    "olympic.age_log.skew(axis=0) "
   ]
  },
  {
   "cell_type": "markdown",
   "id": "3ff0b876",
   "metadata": {},
   "source": [
    "#### After log transformation the skewness value lie in range of -0.5  to 0.5 therefore now it is normally distributed"
   ]
  },
  {
   "cell_type": "code",
   "execution_count": 32,
   "id": "1158ec24",
   "metadata": {},
   "outputs": [],
   "source": [
    "#performing groupby to get the total number of gold medals won by each country cumulatively\n",
    "res=olympic.groupby(by=['country'])['gold_medal'].sum()\n",
    "#stroring the result in dataframe format\n",
    "res=pd.DataFrame(res)"
   ]
  },
  {
   "cell_type": "code",
   "execution_count": 33,
   "id": "b4fe3258",
   "metadata": {},
   "outputs": [],
   "source": [
    "#sorting the result \n",
    "res_sort=res.sort_values('gold_medal',ascending=False)"
   ]
  },
  {
   "cell_type": "code",
   "execution_count": 34,
   "id": "29b1259f",
   "metadata": {},
   "outputs": [
    {
     "data": {
      "text/html": [
       "<div>\n",
       "<style scoped>\n",
       "    .dataframe tbody tr th:only-of-type {\n",
       "        vertical-align: middle;\n",
       "    }\n",
       "\n",
       "    .dataframe tbody tr th {\n",
       "        vertical-align: top;\n",
       "    }\n",
       "\n",
       "    .dataframe thead th {\n",
       "        text-align: right;\n",
       "    }\n",
       "</style>\n",
       "<table border=\"1\" class=\"dataframe\">\n",
       "  <thead>\n",
       "    <tr style=\"text-align: right;\">\n",
       "      <th></th>\n",
       "      <th>gold_medal</th>\n",
       "    </tr>\n",
       "    <tr>\n",
       "      <th>country</th>\n",
       "      <th></th>\n",
       "    </tr>\n",
       "  </thead>\n",
       "  <tbody>\n",
       "    <tr>\n",
       "      <th>United States</th>\n",
       "      <td>552</td>\n",
       "    </tr>\n",
       "    <tr>\n",
       "      <th>Russia</th>\n",
       "      <td>234</td>\n",
       "    </tr>\n",
       "    <tr>\n",
       "      <th>China</th>\n",
       "      <td>234</td>\n",
       "    </tr>\n",
       "    <tr>\n",
       "      <th>Germany</th>\n",
       "      <td>223</td>\n",
       "    </tr>\n",
       "    <tr>\n",
       "      <th>Canada</th>\n",
       "      <td>168</td>\n",
       "    </tr>\n",
       "    <tr>\n",
       "      <th>Australia</th>\n",
       "      <td>163</td>\n",
       "    </tr>\n",
       "    <tr>\n",
       "      <th>Great Britain</th>\n",
       "      <td>124</td>\n",
       "    </tr>\n",
       "    <tr>\n",
       "      <th>South Korea</th>\n",
       "      <td>110</td>\n",
       "    </tr>\n",
       "    <tr>\n",
       "      <th>France</th>\n",
       "      <td>108</td>\n",
       "    </tr>\n",
       "    <tr>\n",
       "      <th>Netherlands</th>\n",
       "      <td>101</td>\n",
       "    </tr>\n",
       "  </tbody>\n",
       "</table>\n",
       "</div>"
      ],
      "text/plain": [
       "               gold_medal\n",
       "country                  \n",
       "United States         552\n",
       "Russia                234\n",
       "China                 234\n",
       "Germany               223\n",
       "Canada                168\n",
       "Australia             163\n",
       "Great Britain         124\n",
       "South Korea           110\n",
       "France                108\n",
       "Netherlands           101"
      ]
     },
     "execution_count": 34,
     "metadata": {},
     "output_type": "execute_result"
    }
   ],
   "source": [
    "#displaying the top 10 observation after performing sorting \n",
    "res_sort.head(10)"
   ]
  },
  {
   "cell_type": "markdown",
   "id": "a1a31bbe",
   "metadata": {},
   "source": [
    "#### Maximum Gold medal is won by United States that is 552"
   ]
  },
  {
   "cell_type": "code",
   "execution_count": 35,
   "id": "01639dcf",
   "metadata": {},
   "outputs": [],
   "source": [
    "#performing groupby to get the total number of silver medals won by each country cumulatively\n",
    "silver=olympic.groupby(by=['country'])['silver_medal'].sum()\n",
    "#stroring the result in dataframe format\n",
    "silver=pd.DataFrame(silver)"
   ]
  },
  {
   "cell_type": "code",
   "execution_count": 36,
   "id": "2075417f",
   "metadata": {},
   "outputs": [],
   "source": [
    "#sorting the result \n",
    "silver_sorted=silver.sort_values('silver_medal',ascending=False)"
   ]
  },
  {
   "cell_type": "code",
   "execution_count": 37,
   "id": "c50ea424",
   "metadata": {},
   "outputs": [
    {
     "data": {
      "text/html": [
       "<div>\n",
       "<style scoped>\n",
       "    .dataframe tbody tr th:only-of-type {\n",
       "        vertical-align: middle;\n",
       "    }\n",
       "\n",
       "    .dataframe tbody tr th {\n",
       "        vertical-align: top;\n",
       "    }\n",
       "\n",
       "    .dataframe thead th {\n",
       "        text-align: right;\n",
       "    }\n",
       "</style>\n",
       "<table border=\"1\" class=\"dataframe\">\n",
       "  <thead>\n",
       "    <tr style=\"text-align: right;\">\n",
       "      <th></th>\n",
       "      <th>silver_medal</th>\n",
       "    </tr>\n",
       "    <tr>\n",
       "      <th>country</th>\n",
       "      <th></th>\n",
       "    </tr>\n",
       "  </thead>\n",
       "  <tbody>\n",
       "    <tr>\n",
       "      <th>United States</th>\n",
       "      <td>440</td>\n",
       "    </tr>\n",
       "    <tr>\n",
       "      <th>Australia</th>\n",
       "      <td>226</td>\n",
       "    </tr>\n",
       "    <tr>\n",
       "      <th>Russia</th>\n",
       "      <td>221</td>\n",
       "    </tr>\n",
       "    <tr>\n",
       "      <th>Germany</th>\n",
       "      <td>183</td>\n",
       "    </tr>\n",
       "    <tr>\n",
       "      <th>China</th>\n",
       "      <td>156</td>\n",
       "    </tr>\n",
       "    <tr>\n",
       "      <th>Netherlands</th>\n",
       "      <td>135</td>\n",
       "    </tr>\n",
       "    <tr>\n",
       "      <th>Spain</th>\n",
       "      <td>116</td>\n",
       "    </tr>\n",
       "    <tr>\n",
       "      <th>Japan</th>\n",
       "      <td>112</td>\n",
       "    </tr>\n",
       "    <tr>\n",
       "      <th>France</th>\n",
       "      <td>107</td>\n",
       "    </tr>\n",
       "    <tr>\n",
       "      <th>Italy</th>\n",
       "      <td>103</td>\n",
       "    </tr>\n",
       "  </tbody>\n",
       "</table>\n",
       "</div>"
      ],
      "text/plain": [
       "               silver_medal\n",
       "country                    \n",
       "United States           440\n",
       "Australia               226\n",
       "Russia                  221\n",
       "Germany                 183\n",
       "China                   156\n",
       "Netherlands             135\n",
       "Spain                   116\n",
       "Japan                   112\n",
       "France                  107\n",
       "Italy                   103"
      ]
     },
     "execution_count": 37,
     "metadata": {},
     "output_type": "execute_result"
    }
   ],
   "source": [
    "#displaying the top 10 observation after performing sorting \n",
    "silver_sorted.head(10)"
   ]
  },
  {
   "cell_type": "markdown",
   "id": "518ae8c7",
   "metadata": {},
   "source": [
    "#### From above result we can analyze that the maximum silver medal is won by United States"
   ]
  },
  {
   "cell_type": "code",
   "execution_count": 38,
   "id": "28cb9e10",
   "metadata": {},
   "outputs": [],
   "source": [
    "#performing groupby to get the total number of bronze medals won by each country cumulatively\n",
    "bronze=olympic.groupby(by=['country'])['brone_medal'].sum()\n",
    "#stroring the result in dataframe format\n",
    "bronze=pd.DataFrame(bronze)"
   ]
  },
  {
   "cell_type": "code",
   "execution_count": 39,
   "id": "f2b33205",
   "metadata": {},
   "outputs": [],
   "source": [
    "#sorting the result \n",
    "bronze_sorted=bronze.sort_values('brone_medal',ascending=False)"
   ]
  },
  {
   "cell_type": "code",
   "execution_count": 40,
   "id": "f071203d",
   "metadata": {},
   "outputs": [
    {
     "data": {
      "text/plain": [
       "country\n",
       "United States    320\n",
       "Russia           313\n",
       "Germany          223\n",
       "Australia        220\n",
       "Italy            142\n",
       "China            140\n",
       "Japan            113\n",
       "South Korea      105\n",
       "Canada           104\n",
       "France           103\n",
       "Name: brone_medal, dtype: int64"
      ]
     },
     "execution_count": 40,
     "metadata": {},
     "output_type": "execute_result"
    }
   ],
   "source": [
    "#displaying the top 10 observation after performing sorting \n",
    "bronze_sorted['brone_medal'].nlargest(n=10)"
   ]
  },
  {
   "cell_type": "markdown",
   "id": "8cd018a6",
   "metadata": {},
   "source": [
    "#### Maximum Bronze medal is won by United States that is 320"
   ]
  },
  {
   "cell_type": "code",
   "execution_count": 41,
   "id": "fcad3bb3",
   "metadata": {},
   "outputs": [],
   "source": [
    "#performing groupby to get the total number of medals won by each country cumulatively\n",
    "total=olympic.groupby(by=['country'])['total_medal'].sum()\n",
    "#stroring the result in dataframe format\n",
    "total=pd.DataFrame(total)"
   ]
  },
  {
   "cell_type": "code",
   "execution_count": 42,
   "id": "875ec641",
   "metadata": {},
   "outputs": [],
   "source": [
    "#sorting the result \n",
    "total_sorted=total.sort_values('total_medal',ascending=False)"
   ]
  },
  {
   "cell_type": "code",
   "execution_count": 43,
   "id": "8e4e0eef",
   "metadata": {},
   "outputs": [
    {
     "data": {
      "text/html": [
       "<div>\n",
       "<style scoped>\n",
       "    .dataframe tbody tr th:only-of-type {\n",
       "        vertical-align: middle;\n",
       "    }\n",
       "\n",
       "    .dataframe tbody tr th {\n",
       "        vertical-align: top;\n",
       "    }\n",
       "\n",
       "    .dataframe thead th {\n",
       "        text-align: right;\n",
       "    }\n",
       "</style>\n",
       "<table border=\"1\" class=\"dataframe\">\n",
       "  <thead>\n",
       "    <tr style=\"text-align: right;\">\n",
       "      <th></th>\n",
       "      <th>total_medal</th>\n",
       "    </tr>\n",
       "    <tr>\n",
       "      <th>country</th>\n",
       "      <th></th>\n",
       "    </tr>\n",
       "  </thead>\n",
       "  <tbody>\n",
       "    <tr>\n",
       "      <th>United States</th>\n",
       "      <td>1312</td>\n",
       "    </tr>\n",
       "    <tr>\n",
       "      <th>Russia</th>\n",
       "      <td>768</td>\n",
       "    </tr>\n",
       "    <tr>\n",
       "      <th>Germany</th>\n",
       "      <td>629</td>\n",
       "    </tr>\n",
       "    <tr>\n",
       "      <th>Australia</th>\n",
       "      <td>609</td>\n",
       "    </tr>\n",
       "    <tr>\n",
       "      <th>China</th>\n",
       "      <td>530</td>\n",
       "    </tr>\n",
       "    <tr>\n",
       "      <th>Canada</th>\n",
       "      <td>370</td>\n",
       "    </tr>\n",
       "    <tr>\n",
       "      <th>Italy</th>\n",
       "      <td>331</td>\n",
       "    </tr>\n",
       "    <tr>\n",
       "      <th>Great Britain</th>\n",
       "      <td>322</td>\n",
       "    </tr>\n",
       "    <tr>\n",
       "      <th>France</th>\n",
       "      <td>318</td>\n",
       "    </tr>\n",
       "    <tr>\n",
       "      <th>Netherlands</th>\n",
       "      <td>318</td>\n",
       "    </tr>\n",
       "  </tbody>\n",
       "</table>\n",
       "</div>"
      ],
      "text/plain": [
       "               total_medal\n",
       "country                   \n",
       "United States         1312\n",
       "Russia                 768\n",
       "Germany                629\n",
       "Australia              609\n",
       "China                  530\n",
       "Canada                 370\n",
       "Italy                  331\n",
       "Great Britain          322\n",
       "France                 318\n",
       "Netherlands            318"
      ]
     },
     "execution_count": 43,
     "metadata": {},
     "output_type": "execute_result"
    }
   ],
   "source": [
    "#displaying the top 10 observation after performing sorting \n",
    "total_sorted.head(10)"
   ]
  },
  {
   "cell_type": "markdown",
   "id": "27d84777",
   "metadata": {},
   "source": [
    "#### From above result we can see that maximum medals are won by United States i.e.1312 which also means that the United States was the best performing country among all participating country"
   ]
  },
  {
   "cell_type": "code",
   "execution_count": 44,
   "id": "ae1f8766",
   "metadata": {},
   "outputs": [
    {
     "data": {
      "text/html": [
       "<div>\n",
       "<style scoped>\n",
       "    .dataframe tbody tr th:only-of-type {\n",
       "        vertical-align: middle;\n",
       "    }\n",
       "\n",
       "    .dataframe tbody tr th {\n",
       "        vertical-align: top;\n",
       "    }\n",
       "\n",
       "    .dataframe thead th {\n",
       "        text-align: right;\n",
       "    }\n",
       "</style>\n",
       "<table border=\"1\" class=\"dataframe\">\n",
       "  <thead>\n",
       "    <tr style=\"text-align: right;\">\n",
       "      <th></th>\n",
       "      <th>total_medal</th>\n",
       "    </tr>\n",
       "    <tr>\n",
       "      <th>year</th>\n",
       "      <th></th>\n",
       "    </tr>\n",
       "  </thead>\n",
       "  <tbody>\n",
       "    <tr>\n",
       "      <th>2000</th>\n",
       "      <td>2005</td>\n",
       "    </tr>\n",
       "    <tr>\n",
       "      <th>2002</th>\n",
       "      <td>478</td>\n",
       "    </tr>\n",
       "    <tr>\n",
       "      <th>2004</th>\n",
       "      <td>2004</td>\n",
       "    </tr>\n",
       "    <tr>\n",
       "      <th>2006</th>\n",
       "      <td>526</td>\n",
       "    </tr>\n",
       "    <tr>\n",
       "      <th>2008</th>\n",
       "      <td>2050</td>\n",
       "    </tr>\n",
       "    <tr>\n",
       "      <th>2010</th>\n",
       "      <td>520</td>\n",
       "    </tr>\n",
       "    <tr>\n",
       "      <th>2012</th>\n",
       "      <td>1946</td>\n",
       "    </tr>\n",
       "  </tbody>\n",
       "</table>\n",
       "</div>"
      ],
      "text/plain": [
       "      total_medal\n",
       "year             \n",
       "2000         2005\n",
       "2002          478\n",
       "2004         2004\n",
       "2006          526\n",
       "2008         2050\n",
       "2010          520\n",
       "2012         1946"
      ]
     },
     "execution_count": 44,
     "metadata": {},
     "output_type": "execute_result"
    }
   ],
   "source": [
    "year_medal=olympic.groupby(by=['year'])['total_medal'].sum()\n",
    "year_medal=pd.DataFrame(year_medal)\n",
    "year_medal"
   ]
  },
  {
   "cell_type": "code",
   "execution_count": 45,
   "id": "9f928d29",
   "metadata": {},
   "outputs": [],
   "source": [
    "#performing groupby to get the count of participation of each country in each sports in respective year\n",
    "r=olympic.groupby(by=['country','year','sports'])['name'].count()\n",
    "#converting the result into dataframe\n",
    "r=pd.DataFrame(r)"
   ]
  },
  {
   "cell_type": "code",
   "execution_count": 46,
   "id": "938afe1f",
   "metadata": {},
   "outputs": [],
   "source": [
    "#sorting the result\n",
    "total_sorted=r.sort_values('name',ascending=False)"
   ]
  },
  {
   "cell_type": "code",
   "execution_count": 47,
   "id": "9defb0ee",
   "metadata": {},
   "outputs": [
    {
     "data": {
      "text/html": [
       "<div>\n",
       "<style scoped>\n",
       "    .dataframe tbody tr th:only-of-type {\n",
       "        vertical-align: middle;\n",
       "    }\n",
       "\n",
       "    .dataframe tbody tr th {\n",
       "        vertical-align: top;\n",
       "    }\n",
       "\n",
       "    .dataframe thead th {\n",
       "        text-align: right;\n",
       "    }\n",
       "</style>\n",
       "<table border=\"1\" class=\"dataframe\">\n",
       "  <thead>\n",
       "    <tr style=\"text-align: right;\">\n",
       "      <th></th>\n",
       "      <th></th>\n",
       "      <th></th>\n",
       "      <th>name</th>\n",
       "    </tr>\n",
       "    <tr>\n",
       "      <th>country</th>\n",
       "      <th>year</th>\n",
       "      <th>sports</th>\n",
       "      <th></th>\n",
       "    </tr>\n",
       "  </thead>\n",
       "  <tbody>\n",
       "    <tr>\n",
       "      <th>Sweden</th>\n",
       "      <th>2006</th>\n",
       "      <th>Ice Hockey</th>\n",
       "      <td>44</td>\n",
       "    </tr>\n",
       "    <tr>\n",
       "      <th rowspan=\"2\" valign=\"top\">United States</th>\n",
       "      <th>2010</th>\n",
       "      <th>Ice Hockey</th>\n",
       "      <td>43</td>\n",
       "    </tr>\n",
       "    <tr>\n",
       "      <th>2002</th>\n",
       "      <th>Ice Hockey</th>\n",
       "      <td>43</td>\n",
       "    </tr>\n",
       "    <tr>\n",
       "      <th rowspan=\"2\" valign=\"top\">Canada</th>\n",
       "      <th>2010</th>\n",
       "      <th>Ice Hockey</th>\n",
       "      <td>43</td>\n",
       "    </tr>\n",
       "    <tr>\n",
       "      <th>2002</th>\n",
       "      <th>Ice Hockey</th>\n",
       "      <td>42</td>\n",
       "    </tr>\n",
       "    <tr>\n",
       "      <th>...</th>\n",
       "      <th>...</th>\n",
       "      <th>...</th>\n",
       "      <td>...</td>\n",
       "    </tr>\n",
       "    <tr>\n",
       "      <th rowspan=\"4\" valign=\"top\">Italy</th>\n",
       "      <th rowspan=\"4\" valign=\"top\">2012</th>\n",
       "      <th>Cycling</th>\n",
       "      <td>1</td>\n",
       "    </tr>\n",
       "    <tr>\n",
       "      <th>Gymnastics</th>\n",
       "      <td>1</td>\n",
       "    </tr>\n",
       "    <tr>\n",
       "      <th>Judo</th>\n",
       "      <td>1</td>\n",
       "    </tr>\n",
       "    <tr>\n",
       "      <th>Swimming</th>\n",
       "      <td>1</td>\n",
       "    </tr>\n",
       "    <tr>\n",
       "      <th>Zimbabwe</th>\n",
       "      <th>2008</th>\n",
       "      <th>Swimming</th>\n",
       "      <td>1</td>\n",
       "    </tr>\n",
       "  </tbody>\n",
       "</table>\n",
       "<p>1869 rows × 1 columns</p>\n",
       "</div>"
      ],
      "text/plain": [
       "                               name\n",
       "country       year sports          \n",
       "Sweden        2006 Ice Hockey    44\n",
       "United States 2010 Ice Hockey    43\n",
       "              2002 Ice Hockey    43\n",
       "Canada        2010 Ice Hockey    43\n",
       "              2002 Ice Hockey    42\n",
       "...                             ...\n",
       "Italy         2012 Cycling        1\n",
       "                   Gymnastics     1\n",
       "                   Judo           1\n",
       "                   Swimming       1\n",
       "Zimbabwe      2008 Swimming       1\n",
       "\n",
       "[1869 rows x 1 columns]"
      ]
     },
     "execution_count": 47,
     "metadata": {},
     "output_type": "execute_result"
    }
   ],
   "source": [
    "#displayig the result on the basis of maximum particpation count\n",
    "total_sorted"
   ]
  },
  {
   "cell_type": "markdown",
   "id": "0696efe8",
   "metadata": {},
   "source": [
    "#### From above table we can find that:\n",
    "#### From which country in the given year has how many number of participation in any sports.\n",
    "#### Here we have found out that the maximum number of participation was from sweden in Ice hockey in year 2006\n"
   ]
  },
  {
   "cell_type": "code",
   "execution_count": 48,
   "id": "01eccb20",
   "metadata": {},
   "outputs": [],
   "source": [
    "#performing groupby and finding the total number of bronze medal won by each country in each sports in each year\n",
    "bronze=olympic.groupby(by=['country','year','sports'])['brone_medal'].sum()\n",
    "#converting the result into dataframe\n",
    "bronze=pd.DataFrame(bronze)"
   ]
  },
  {
   "cell_type": "code",
   "execution_count": 49,
   "id": "f6d63902",
   "metadata": {},
   "outputs": [
    {
     "data": {
      "text/html": [
       "<div>\n",
       "<style scoped>\n",
       "    .dataframe tbody tr th:only-of-type {\n",
       "        vertical-align: middle;\n",
       "    }\n",
       "\n",
       "    .dataframe tbody tr th {\n",
       "        vertical-align: top;\n",
       "    }\n",
       "\n",
       "    .dataframe thead th {\n",
       "        text-align: right;\n",
       "    }\n",
       "</style>\n",
       "<table border=\"1\" class=\"dataframe\">\n",
       "  <thead>\n",
       "    <tr style=\"text-align: right;\">\n",
       "      <th></th>\n",
       "      <th></th>\n",
       "      <th></th>\n",
       "      <th>brone_medal</th>\n",
       "    </tr>\n",
       "    <tr>\n",
       "      <th>country</th>\n",
       "      <th>year</th>\n",
       "      <th>sports</th>\n",
       "      <th></th>\n",
       "    </tr>\n",
       "  </thead>\n",
       "  <tbody>\n",
       "    <tr>\n",
       "      <th rowspan=\"2\" valign=\"top\">Afghanistan</th>\n",
       "      <th>2008</th>\n",
       "      <th>Taekwondo</th>\n",
       "      <td>1</td>\n",
       "    </tr>\n",
       "    <tr>\n",
       "      <th>2012</th>\n",
       "      <th>Taekwondo</th>\n",
       "      <td>1</td>\n",
       "    </tr>\n",
       "    <tr>\n",
       "      <th rowspan=\"3\" valign=\"top\">Algeria</th>\n",
       "      <th rowspan=\"2\" valign=\"top\">2000</th>\n",
       "      <th>Athletics</th>\n",
       "      <td>2</td>\n",
       "    </tr>\n",
       "    <tr>\n",
       "      <th>Boxing</th>\n",
       "      <td>1</td>\n",
       "    </tr>\n",
       "    <tr>\n",
       "      <th>2008</th>\n",
       "      <th>Judo</th>\n",
       "      <td>1</td>\n",
       "    </tr>\n",
       "    <tr>\n",
       "      <th>...</th>\n",
       "      <th>...</th>\n",
       "      <th>...</th>\n",
       "      <td>...</td>\n",
       "    </tr>\n",
       "    <tr>\n",
       "      <th>Venezuela</th>\n",
       "      <th>2012</th>\n",
       "      <th>Fencing</th>\n",
       "      <td>0</td>\n",
       "    </tr>\n",
       "    <tr>\n",
       "      <th rowspan=\"2\" valign=\"top\">Vietnam</th>\n",
       "      <th>2000</th>\n",
       "      <th>Taekwondo</th>\n",
       "      <td>0</td>\n",
       "    </tr>\n",
       "    <tr>\n",
       "      <th>2008</th>\n",
       "      <th>Weightlifting</th>\n",
       "      <td>0</td>\n",
       "    </tr>\n",
       "    <tr>\n",
       "      <th rowspan=\"2\" valign=\"top\">Zimbabwe</th>\n",
       "      <th>2004</th>\n",
       "      <th>Swimming</th>\n",
       "      <td>1</td>\n",
       "    </tr>\n",
       "    <tr>\n",
       "      <th>2008</th>\n",
       "      <th>Swimming</th>\n",
       "      <td>0</td>\n",
       "    </tr>\n",
       "  </tbody>\n",
       "</table>\n",
       "<p>1869 rows × 1 columns</p>\n",
       "</div>"
      ],
      "text/plain": [
       "                                brone_medal\n",
       "country     year sports                    \n",
       "Afghanistan 2008 Taekwondo                1\n",
       "            2012 Taekwondo                1\n",
       "Algeria     2000 Athletics                2\n",
       "                 Boxing                   1\n",
       "            2008 Judo                     1\n",
       "...                                     ...\n",
       "Venezuela   2012 Fencing                  0\n",
       "Vietnam     2000 Taekwondo                0\n",
       "            2008 Weightlifting            0\n",
       "Zimbabwe    2004 Swimming                 1\n",
       "            2008 Swimming                 0\n",
       "\n",
       "[1869 rows x 1 columns]"
      ]
     },
     "execution_count": 49,
     "metadata": {},
     "output_type": "execute_result"
    }
   ],
   "source": [
    "bronze"
   ]
  },
  {
   "cell_type": "markdown",
   "id": "dcf10230",
   "metadata": {},
   "source": [
    "#### From above we can find the number of bronze medal won by each country in its participating sports and year"
   ]
  },
  {
   "cell_type": "code",
   "execution_count": 50,
   "id": "267b56e6",
   "metadata": {},
   "outputs": [],
   "source": [
    "#performing groupby and finding the total number of Silver medal won by each country in each sports in each year\n",
    "Silver1=olympic.groupby(by=['country','year','sports'])['silver_medal'].sum()\n",
    "#converting the result into dataframe\n",
    "Silver1=pd.DataFrame(Silver1)"
   ]
  },
  {
   "cell_type": "code",
   "execution_count": 51,
   "id": "c5338793",
   "metadata": {},
   "outputs": [
    {
     "data": {
      "text/html": [
       "<div>\n",
       "<style scoped>\n",
       "    .dataframe tbody tr th:only-of-type {\n",
       "        vertical-align: middle;\n",
       "    }\n",
       "\n",
       "    .dataframe tbody tr th {\n",
       "        vertical-align: top;\n",
       "    }\n",
       "\n",
       "    .dataframe thead th {\n",
       "        text-align: right;\n",
       "    }\n",
       "</style>\n",
       "<table border=\"1\" class=\"dataframe\">\n",
       "  <thead>\n",
       "    <tr style=\"text-align: right;\">\n",
       "      <th></th>\n",
       "      <th></th>\n",
       "      <th></th>\n",
       "      <th>silver_medal</th>\n",
       "    </tr>\n",
       "    <tr>\n",
       "      <th>country</th>\n",
       "      <th>year</th>\n",
       "      <th>sports</th>\n",
       "      <th></th>\n",
       "    </tr>\n",
       "  </thead>\n",
       "  <tbody>\n",
       "    <tr>\n",
       "      <th rowspan=\"2\" valign=\"top\">Afghanistan</th>\n",
       "      <th>2008</th>\n",
       "      <th>Taekwondo</th>\n",
       "      <td>0</td>\n",
       "    </tr>\n",
       "    <tr>\n",
       "      <th>2012</th>\n",
       "      <th>Taekwondo</th>\n",
       "      <td>0</td>\n",
       "    </tr>\n",
       "    <tr>\n",
       "      <th rowspan=\"3\" valign=\"top\">Algeria</th>\n",
       "      <th rowspan=\"2\" valign=\"top\">2000</th>\n",
       "      <th>Athletics</th>\n",
       "      <td>1</td>\n",
       "    </tr>\n",
       "    <tr>\n",
       "      <th>Boxing</th>\n",
       "      <td>0</td>\n",
       "    </tr>\n",
       "    <tr>\n",
       "      <th>2008</th>\n",
       "      <th>Judo</th>\n",
       "      <td>1</td>\n",
       "    </tr>\n",
       "    <tr>\n",
       "      <th>...</th>\n",
       "      <th>...</th>\n",
       "      <th>...</th>\n",
       "      <td>...</td>\n",
       "    </tr>\n",
       "    <tr>\n",
       "      <th>Venezuela</th>\n",
       "      <th>2012</th>\n",
       "      <th>Fencing</th>\n",
       "      <td>0</td>\n",
       "    </tr>\n",
       "    <tr>\n",
       "      <th rowspan=\"2\" valign=\"top\">Vietnam</th>\n",
       "      <th>2000</th>\n",
       "      <th>Taekwondo</th>\n",
       "      <td>1</td>\n",
       "    </tr>\n",
       "    <tr>\n",
       "      <th>2008</th>\n",
       "      <th>Weightlifting</th>\n",
       "      <td>1</td>\n",
       "    </tr>\n",
       "    <tr>\n",
       "      <th rowspan=\"2\" valign=\"top\">Zimbabwe</th>\n",
       "      <th>2004</th>\n",
       "      <th>Swimming</th>\n",
       "      <td>1</td>\n",
       "    </tr>\n",
       "    <tr>\n",
       "      <th>2008</th>\n",
       "      <th>Swimming</th>\n",
       "      <td>3</td>\n",
       "    </tr>\n",
       "  </tbody>\n",
       "</table>\n",
       "<p>1869 rows × 1 columns</p>\n",
       "</div>"
      ],
      "text/plain": [
       "                                silver_medal\n",
       "country     year sports                     \n",
       "Afghanistan 2008 Taekwondo                 0\n",
       "            2012 Taekwondo                 0\n",
       "Algeria     2000 Athletics                 1\n",
       "                 Boxing                    0\n",
       "            2008 Judo                      1\n",
       "...                                      ...\n",
       "Venezuela   2012 Fencing                   0\n",
       "Vietnam     2000 Taekwondo                 1\n",
       "            2008 Weightlifting             1\n",
       "Zimbabwe    2004 Swimming                  1\n",
       "            2008 Swimming                  3\n",
       "\n",
       "[1869 rows x 1 columns]"
      ]
     },
     "execution_count": 51,
     "metadata": {},
     "output_type": "execute_result"
    }
   ],
   "source": [
    "Silver1"
   ]
  },
  {
   "cell_type": "markdown",
   "id": "cb7fe09c",
   "metadata": {},
   "source": [
    "#### From above we can find the number of Silver medal won by each country in its participating sports and  year"
   ]
  },
  {
   "cell_type": "code",
   "execution_count": 52,
   "id": "93950d0e",
   "metadata": {},
   "outputs": [],
   "source": [
    "#performing groupby and finding the total number of Gold medal won by each country in each sports in each year\n",
    "Gold1=olympic.groupby(by=['country','year','sports'])['gold_medal'].sum()\n",
    "Gold1=pd.DataFrame(Gold1)"
   ]
  },
  {
   "cell_type": "code",
   "execution_count": 53,
   "id": "077d098d",
   "metadata": {},
   "outputs": [
    {
     "data": {
      "text/html": [
       "<div>\n",
       "<style scoped>\n",
       "    .dataframe tbody tr th:only-of-type {\n",
       "        vertical-align: middle;\n",
       "    }\n",
       "\n",
       "    .dataframe tbody tr th {\n",
       "        vertical-align: top;\n",
       "    }\n",
       "\n",
       "    .dataframe thead th {\n",
       "        text-align: right;\n",
       "    }\n",
       "</style>\n",
       "<table border=\"1\" class=\"dataframe\">\n",
       "  <thead>\n",
       "    <tr style=\"text-align: right;\">\n",
       "      <th></th>\n",
       "      <th></th>\n",
       "      <th></th>\n",
       "      <th>gold_medal</th>\n",
       "    </tr>\n",
       "    <tr>\n",
       "      <th>country</th>\n",
       "      <th>year</th>\n",
       "      <th>sports</th>\n",
       "      <th></th>\n",
       "    </tr>\n",
       "  </thead>\n",
       "  <tbody>\n",
       "    <tr>\n",
       "      <th rowspan=\"2\" valign=\"top\">Afghanistan</th>\n",
       "      <th>2008</th>\n",
       "      <th>Taekwondo</th>\n",
       "      <td>0</td>\n",
       "    </tr>\n",
       "    <tr>\n",
       "      <th>2012</th>\n",
       "      <th>Taekwondo</th>\n",
       "      <td>0</td>\n",
       "    </tr>\n",
       "    <tr>\n",
       "      <th rowspan=\"3\" valign=\"top\">Algeria</th>\n",
       "      <th rowspan=\"2\" valign=\"top\">2000</th>\n",
       "      <th>Athletics</th>\n",
       "      <td>1</td>\n",
       "    </tr>\n",
       "    <tr>\n",
       "      <th>Boxing</th>\n",
       "      <td>0</td>\n",
       "    </tr>\n",
       "    <tr>\n",
       "      <th>2008</th>\n",
       "      <th>Judo</th>\n",
       "      <td>0</td>\n",
       "    </tr>\n",
       "    <tr>\n",
       "      <th>...</th>\n",
       "      <th>...</th>\n",
       "      <th>...</th>\n",
       "      <td>...</td>\n",
       "    </tr>\n",
       "    <tr>\n",
       "      <th>Venezuela</th>\n",
       "      <th>2012</th>\n",
       "      <th>Fencing</th>\n",
       "      <td>1</td>\n",
       "    </tr>\n",
       "    <tr>\n",
       "      <th rowspan=\"2\" valign=\"top\">Vietnam</th>\n",
       "      <th>2000</th>\n",
       "      <th>Taekwondo</th>\n",
       "      <td>0</td>\n",
       "    </tr>\n",
       "    <tr>\n",
       "      <th>2008</th>\n",
       "      <th>Weightlifting</th>\n",
       "      <td>0</td>\n",
       "    </tr>\n",
       "    <tr>\n",
       "      <th rowspan=\"2\" valign=\"top\">Zimbabwe</th>\n",
       "      <th>2004</th>\n",
       "      <th>Swimming</th>\n",
       "      <td>1</td>\n",
       "    </tr>\n",
       "    <tr>\n",
       "      <th>2008</th>\n",
       "      <th>Swimming</th>\n",
       "      <td>1</td>\n",
       "    </tr>\n",
       "  </tbody>\n",
       "</table>\n",
       "<p>1869 rows × 1 columns</p>\n",
       "</div>"
      ],
      "text/plain": [
       "                                gold_medal\n",
       "country     year sports                   \n",
       "Afghanistan 2008 Taekwondo               0\n",
       "            2012 Taekwondo               0\n",
       "Algeria     2000 Athletics               1\n",
       "                 Boxing                  0\n",
       "            2008 Judo                    0\n",
       "...                                    ...\n",
       "Venezuela   2012 Fencing                 1\n",
       "Vietnam     2000 Taekwondo               0\n",
       "            2008 Weightlifting           0\n",
       "Zimbabwe    2004 Swimming                1\n",
       "            2008 Swimming                1\n",
       "\n",
       "[1869 rows x 1 columns]"
      ]
     },
     "execution_count": 53,
     "metadata": {},
     "output_type": "execute_result"
    }
   ],
   "source": [
    "Gold1"
   ]
  },
  {
   "cell_type": "markdown",
   "id": "a0be92e9",
   "metadata": {},
   "source": [
    "#### From above we can find the number of Gold medal won by each country in its participating sports and  year"
   ]
  },
  {
   "cell_type": "code",
   "execution_count": 54,
   "id": "b7d7a58e",
   "metadata": {},
   "outputs": [],
   "source": [
    "#performing groupby and counting the participation and winning total medal of each year of each country and sports\n",
    "Total1=olympic.groupby(by=['country','year','sports','total_medal'])['name'].count()\n",
    "#converting the result into dataframe\n",
    "Total1=pd.DataFrame(Total1)\n"
   ]
  },
  {
   "cell_type": "code",
   "execution_count": 55,
   "id": "66f7797d",
   "metadata": {
    "scrolled": true
   },
   "outputs": [
    {
     "data": {
      "text/html": [
       "<div>\n",
       "<style scoped>\n",
       "    .dataframe tbody tr th:only-of-type {\n",
       "        vertical-align: middle;\n",
       "    }\n",
       "\n",
       "    .dataframe tbody tr th {\n",
       "        vertical-align: top;\n",
       "    }\n",
       "\n",
       "    .dataframe thead th {\n",
       "        text-align: right;\n",
       "    }\n",
       "</style>\n",
       "<table border=\"1\" class=\"dataframe\">\n",
       "  <thead>\n",
       "    <tr style=\"text-align: right;\">\n",
       "      <th></th>\n",
       "      <th></th>\n",
       "      <th></th>\n",
       "      <th></th>\n",
       "      <th>name</th>\n",
       "    </tr>\n",
       "    <tr>\n",
       "      <th>country</th>\n",
       "      <th>year</th>\n",
       "      <th>sports</th>\n",
       "      <th>total_medal</th>\n",
       "      <th></th>\n",
       "    </tr>\n",
       "  </thead>\n",
       "  <tbody>\n",
       "    <tr>\n",
       "      <th rowspan=\"2\" valign=\"top\">Afghanistan</th>\n",
       "      <th>2008</th>\n",
       "      <th>Taekwondo</th>\n",
       "      <th>1</th>\n",
       "      <td>1</td>\n",
       "    </tr>\n",
       "    <tr>\n",
       "      <th>2012</th>\n",
       "      <th>Taekwondo</th>\n",
       "      <th>1</th>\n",
       "      <td>1</td>\n",
       "    </tr>\n",
       "    <tr>\n",
       "      <th rowspan=\"3\" valign=\"top\">Algeria</th>\n",
       "      <th rowspan=\"2\" valign=\"top\">2000</th>\n",
       "      <th>Athletics</th>\n",
       "      <th>1</th>\n",
       "      <td>4</td>\n",
       "    </tr>\n",
       "    <tr>\n",
       "      <th>Boxing</th>\n",
       "      <th>1</th>\n",
       "      <td>1</td>\n",
       "    </tr>\n",
       "    <tr>\n",
       "      <th>2008</th>\n",
       "      <th>Judo</th>\n",
       "      <th>1</th>\n",
       "      <td>2</td>\n",
       "    </tr>\n",
       "    <tr>\n",
       "      <th>...</th>\n",
       "      <th>...</th>\n",
       "      <th>...</th>\n",
       "      <th>...</th>\n",
       "      <td>...</td>\n",
       "    </tr>\n",
       "    <tr>\n",
       "      <th>Venezuela</th>\n",
       "      <th>2012</th>\n",
       "      <th>Fencing</th>\n",
       "      <th>1</th>\n",
       "      <td>1</td>\n",
       "    </tr>\n",
       "    <tr>\n",
       "      <th rowspan=\"2\" valign=\"top\">Vietnam</th>\n",
       "      <th>2000</th>\n",
       "      <th>Taekwondo</th>\n",
       "      <th>1</th>\n",
       "      <td>1</td>\n",
       "    </tr>\n",
       "    <tr>\n",
       "      <th>2008</th>\n",
       "      <th>Weightlifting</th>\n",
       "      <th>1</th>\n",
       "      <td>1</td>\n",
       "    </tr>\n",
       "    <tr>\n",
       "      <th rowspan=\"2\" valign=\"top\">Zimbabwe</th>\n",
       "      <th>2004</th>\n",
       "      <th>Swimming</th>\n",
       "      <th>3</th>\n",
       "      <td>1</td>\n",
       "    </tr>\n",
       "    <tr>\n",
       "      <th>2008</th>\n",
       "      <th>Swimming</th>\n",
       "      <th>4</th>\n",
       "      <td>1</td>\n",
       "    </tr>\n",
       "  </tbody>\n",
       "</table>\n",
       "<p>2218 rows × 1 columns</p>\n",
       "</div>"
      ],
      "text/plain": [
       "                                            name\n",
       "country     year sports        total_medal      \n",
       "Afghanistan 2008 Taekwondo     1               1\n",
       "            2012 Taekwondo     1               1\n",
       "Algeria     2000 Athletics     1               4\n",
       "                 Boxing        1               1\n",
       "            2008 Judo          1               2\n",
       "...                                          ...\n",
       "Venezuela   2012 Fencing       1               1\n",
       "Vietnam     2000 Taekwondo     1               1\n",
       "            2008 Weightlifting 1               1\n",
       "Zimbabwe    2004 Swimming      3               1\n",
       "            2008 Swimming      4               1\n",
       "\n",
       "[2218 rows x 1 columns]"
      ]
     },
     "execution_count": 55,
     "metadata": {},
     "output_type": "execute_result"
    }
   ],
   "source": [
    "Total1"
   ]
  },
  {
   "cell_type": "markdown",
   "id": "4921d34a",
   "metadata": {},
   "source": [
    "#### From above table we find the number of participation of each country in each sports in each year and the total medal won in that particular sports and year respectively"
   ]
  },
  {
   "cell_type": "code",
   "execution_count": 56,
   "id": "6bf996d8",
   "metadata": {},
   "outputs": [],
   "source": [
    "#to get the partcipant info who won max medals\n",
    "Max_gold=olympic.groupby(by=['country','year','sports','name'])['gold_medal'].sum()\n",
    "#converting the result into dataframe\n",
    "Max_gold=pd.DataFrame(Max_gold)"
   ]
  },
  {
   "cell_type": "code",
   "execution_count": 57,
   "id": "6a55b925",
   "metadata": {},
   "outputs": [],
   "source": [
    "Max_sorted=Max_gold.sort_values('gold_medal',ascending=False)"
   ]
  },
  {
   "cell_type": "code",
   "execution_count": 58,
   "id": "508acad6",
   "metadata": {},
   "outputs": [
    {
     "data": {
      "text/html": [
       "<div>\n",
       "<style scoped>\n",
       "    .dataframe tbody tr th:only-of-type {\n",
       "        vertical-align: middle;\n",
       "    }\n",
       "\n",
       "    .dataframe tbody tr th {\n",
       "        vertical-align: top;\n",
       "    }\n",
       "\n",
       "    .dataframe thead th {\n",
       "        text-align: right;\n",
       "    }\n",
       "</style>\n",
       "<table border=\"1\" class=\"dataframe\">\n",
       "  <thead>\n",
       "    <tr style=\"text-align: right;\">\n",
       "      <th></th>\n",
       "      <th></th>\n",
       "      <th></th>\n",
       "      <th></th>\n",
       "      <th>gold_medal</th>\n",
       "    </tr>\n",
       "    <tr>\n",
       "      <th>country</th>\n",
       "      <th>year</th>\n",
       "      <th>sports</th>\n",
       "      <th>name</th>\n",
       "      <th></th>\n",
       "    </tr>\n",
       "  </thead>\n",
       "  <tbody>\n",
       "    <tr>\n",
       "      <th rowspan=\"2\" valign=\"top\">United States</th>\n",
       "      <th>2008</th>\n",
       "      <th>Swimming</th>\n",
       "      <th>Michael Phelps</th>\n",
       "      <td>8</td>\n",
       "    </tr>\n",
       "    <tr>\n",
       "      <th>2004</th>\n",
       "      <th>Swimming</th>\n",
       "      <th>Michael Phelps</th>\n",
       "      <td>6</td>\n",
       "    </tr>\n",
       "    <tr>\n",
       "      <th>Norway</th>\n",
       "      <th>2002</th>\n",
       "      <th>Biathlon</th>\n",
       "      <th>Ole Einar Bjørndalen</th>\n",
       "      <td>4</td>\n",
       "    </tr>\n",
       "    <tr>\n",
       "      <th rowspan=\"2\" valign=\"top\">United States</th>\n",
       "      <th rowspan=\"2\" valign=\"top\">2012</th>\n",
       "      <th rowspan=\"2\" valign=\"top\">Swimming</th>\n",
       "      <th>Missy Franklin</th>\n",
       "      <td>4</td>\n",
       "    </tr>\n",
       "    <tr>\n",
       "      <th>Michael Phelps</th>\n",
       "      <td>4</td>\n",
       "    </tr>\n",
       "    <tr>\n",
       "      <th>...</th>\n",
       "      <th>...</th>\n",
       "      <th>...</th>\n",
       "      <th>...</th>\n",
       "      <td>...</td>\n",
       "    </tr>\n",
       "    <tr>\n",
       "      <th rowspan=\"3\" valign=\"top\">Great Britain</th>\n",
       "      <th rowspan=\"3\" valign=\"top\">2000</th>\n",
       "      <th rowspan=\"3\" valign=\"top\">Athletics</th>\n",
       "      <th>Kelly Holmes</th>\n",
       "      <td>0</td>\n",
       "    </tr>\n",
       "    <tr>\n",
       "      <th>Katharine Merry</th>\n",
       "      <td>0</td>\n",
       "    </tr>\n",
       "    <tr>\n",
       "      <th>Darren Campbell</th>\n",
       "      <td>0</td>\n",
       "    </tr>\n",
       "    <tr>\n",
       "      <th>Germany</th>\n",
       "      <th>2012</th>\n",
       "      <th>Taekwondo</th>\n",
       "      <th>Helena Fromm</th>\n",
       "      <td>0</td>\n",
       "    </tr>\n",
       "    <tr>\n",
       "      <th>Italy</th>\n",
       "      <th>2008</th>\n",
       "      <th>Rowing</th>\n",
       "      <th>Simone Raineri</th>\n",
       "      <td>0</td>\n",
       "    </tr>\n",
       "  </tbody>\n",
       "</table>\n",
       "<p>8613 rows × 1 columns</p>\n",
       "</div>"
      ],
      "text/plain": [
       "                                                   gold_medal\n",
       "country       year sports    name                            \n",
       "United States 2008 Swimming  Michael Phelps                 8\n",
       "              2004 Swimming  Michael Phelps                 6\n",
       "Norway        2002 Biathlon  Ole Einar Bjørndalen           4\n",
       "United States 2012 Swimming  Missy Franklin                 4\n",
       "                             Michael Phelps                 4\n",
       "...                                                       ...\n",
       "Great Britain 2000 Athletics Kelly Holmes                   0\n",
       "                             Katharine Merry                0\n",
       "                             Darren Campbell                0\n",
       "Germany       2012 Taekwondo Helena Fromm                   0\n",
       "Italy         2008 Rowing    Simone Raineri                 0\n",
       "\n",
       "[8613 rows x 1 columns]"
      ]
     },
     "execution_count": 58,
     "metadata": {},
     "output_type": "execute_result"
    }
   ],
   "source": [
    "Max_sorted"
   ]
  },
  {
   "cell_type": "markdown",
   "id": "909fddb8",
   "metadata": {},
   "source": [
    "#### Maximum number of gold medal is won by Micheal Phelps of United States in Swimming is 8 in year 2008"
   ]
  },
  {
   "cell_type": "code",
   "execution_count": 59,
   "id": "43ffc569",
   "metadata": {},
   "outputs": [],
   "source": [
    "#to get the partcipant info who won max medals\n",
    "Max_silver=olympic.groupby(by=['country','year','sports','name'])['silver_medal'].sum()\n",
    "#converting the result into dataframe\n",
    "Max_silver=pd.DataFrame(Max_silver)"
   ]
  },
  {
   "cell_type": "code",
   "execution_count": 60,
   "id": "38f05bda",
   "metadata": {},
   "outputs": [],
   "source": [
    "Max_sorted=Max_silver.sort_values('silver_medal',ascending=False)"
   ]
  },
  {
   "cell_type": "code",
   "execution_count": 61,
   "id": "08d67ad0",
   "metadata": {},
   "outputs": [
    {
     "data": {
      "text/html": [
       "<div>\n",
       "<style scoped>\n",
       "    .dataframe tbody tr th:only-of-type {\n",
       "        vertical-align: middle;\n",
       "    }\n",
       "\n",
       "    .dataframe tbody tr th {\n",
       "        vertical-align: top;\n",
       "    }\n",
       "\n",
       "    .dataframe thead th {\n",
       "        text-align: right;\n",
       "    }\n",
       "</style>\n",
       "<table border=\"1\" class=\"dataframe\">\n",
       "  <thead>\n",
       "    <tr style=\"text-align: right;\">\n",
       "      <th></th>\n",
       "      <th></th>\n",
       "      <th></th>\n",
       "      <th></th>\n",
       "      <th>silver_medal</th>\n",
       "    </tr>\n",
       "    <tr>\n",
       "      <th>country</th>\n",
       "      <th>year</th>\n",
       "      <th>sports</th>\n",
       "      <th>name</th>\n",
       "      <th></th>\n",
       "    </tr>\n",
       "  </thead>\n",
       "  <tbody>\n",
       "    <tr>\n",
       "      <th>Zimbabwe</th>\n",
       "      <th>2008</th>\n",
       "      <th>Swimming</th>\n",
       "      <th>Kirsty Coventry</th>\n",
       "      <td>3</td>\n",
       "    </tr>\n",
       "    <tr>\n",
       "      <th rowspan=\"2\" valign=\"top\">Australia</th>\n",
       "      <th>2012</th>\n",
       "      <th>Swimming</th>\n",
       "      <th>Alicia Coutts</th>\n",
       "      <td>3</td>\n",
       "    </tr>\n",
       "    <tr>\n",
       "      <th>2000</th>\n",
       "      <th>Swimming</th>\n",
       "      <th>Susie O'Neill</th>\n",
       "      <td>3</td>\n",
       "    </tr>\n",
       "    <tr>\n",
       "      <th rowspan=\"2\" valign=\"top\">United States</th>\n",
       "      <th rowspan=\"2\" valign=\"top\">2008</th>\n",
       "      <th rowspan=\"2\" valign=\"top\">Gymnastics</th>\n",
       "      <th>Nastia Liukin</th>\n",
       "      <td>3</td>\n",
       "    </tr>\n",
       "    <tr>\n",
       "      <th>Shawn Johnson</th>\n",
       "      <td>3</td>\n",
       "    </tr>\n",
       "    <tr>\n",
       "      <th>...</th>\n",
       "      <th>...</th>\n",
       "      <th>...</th>\n",
       "      <th>...</th>\n",
       "      <td>...</td>\n",
       "    </tr>\n",
       "    <tr>\n",
       "      <th rowspan=\"4\" valign=\"top\">Japan</th>\n",
       "      <th rowspan=\"4\" valign=\"top\">2004</th>\n",
       "      <th rowspan=\"4\" valign=\"top\">Baseball</th>\n",
       "      <th>Yuya Ando</th>\n",
       "      <td>0</td>\n",
       "    </tr>\n",
       "    <tr>\n",
       "      <th>Yoshitomo Tani</th>\n",
       "      <td>0</td>\n",
       "    </tr>\n",
       "    <tr>\n",
       "      <th>Yoshinobu Takahashi</th>\n",
       "      <td>0</td>\n",
       "    </tr>\n",
       "    <tr>\n",
       "      <th>Tsuyoshi Wada</th>\n",
       "      <td>0</td>\n",
       "    </tr>\n",
       "    <tr>\n",
       "      <th>Afghanistan</th>\n",
       "      <th>2008</th>\n",
       "      <th>Taekwondo</th>\n",
       "      <th>Rohullah Nikpai</th>\n",
       "      <td>0</td>\n",
       "    </tr>\n",
       "  </tbody>\n",
       "</table>\n",
       "<p>8613 rows × 1 columns</p>\n",
       "</div>"
      ],
      "text/plain": [
       "                                                   silver_medal\n",
       "country       year sports     name                             \n",
       "Zimbabwe      2008 Swimming   Kirsty Coventry                 3\n",
       "Australia     2012 Swimming   Alicia Coutts                   3\n",
       "              2000 Swimming   Susie O'Neill                   3\n",
       "United States 2008 Gymnastics Nastia Liukin                   3\n",
       "                              Shawn Johnson                   3\n",
       "...                                                         ...\n",
       "Japan         2004 Baseball   Yuya Ando                       0\n",
       "                              Yoshitomo Tani                  0\n",
       "                              Yoshinobu Takahashi             0\n",
       "                              Tsuyoshi Wada                   0\n",
       "Afghanistan   2008 Taekwondo  Rohullah Nikpai                 0\n",
       "\n",
       "[8613 rows x 1 columns]"
      ]
     },
     "execution_count": 61,
     "metadata": {},
     "output_type": "execute_result"
    }
   ],
   "source": [
    "Max_sorted"
   ]
  },
  {
   "cell_type": "markdown",
   "id": "e548adfe",
   "metadata": {},
   "source": [
    "#### Maximum number of medal is won by many participants of various countries in various sports is 3"
   ]
  },
  {
   "cell_type": "code",
   "execution_count": 62,
   "id": "8f0010a0",
   "metadata": {},
   "outputs": [],
   "source": [
    "#to get the partcipant info who won max medals\n",
    "Max_bronze=olympic.groupby(by=['country','year','sports','name'])['brone_medal'].sum()\n",
    "#converting the result into dataframe\n",
    "Max_bronze=pd.DataFrame(Max_bronze)"
   ]
  },
  {
   "cell_type": "code",
   "execution_count": 63,
   "id": "d870e400",
   "metadata": {},
   "outputs": [],
   "source": [
    "Max_sorted=Max_bronze.sort_values('brone_medal',ascending=False)"
   ]
  },
  {
   "cell_type": "code",
   "execution_count": 64,
   "id": "5dbf1bac",
   "metadata": {},
   "outputs": [
    {
     "data": {
      "text/html": [
       "<div>\n",
       "<style scoped>\n",
       "    .dataframe tbody tr th:only-of-type {\n",
       "        vertical-align: middle;\n",
       "    }\n",
       "\n",
       "    .dataframe tbody tr th {\n",
       "        vertical-align: top;\n",
       "    }\n",
       "\n",
       "    .dataframe thead th {\n",
       "        text-align: right;\n",
       "    }\n",
       "</style>\n",
       "<table border=\"1\" class=\"dataframe\">\n",
       "  <thead>\n",
       "    <tr style=\"text-align: right;\">\n",
       "      <th></th>\n",
       "      <th></th>\n",
       "      <th></th>\n",
       "      <th></th>\n",
       "      <th>brone_medal</th>\n",
       "    </tr>\n",
       "    <tr>\n",
       "      <th>country</th>\n",
       "      <th>year</th>\n",
       "      <th>sports</th>\n",
       "      <th>name</th>\n",
       "      <th></th>\n",
       "    </tr>\n",
       "  </thead>\n",
       "  <tbody>\n",
       "    <tr>\n",
       "      <th>United States</th>\n",
       "      <th>2008</th>\n",
       "      <th>Swimming</th>\n",
       "      <th>Natalie Coughlin</th>\n",
       "      <td>3</td>\n",
       "    </tr>\n",
       "    <tr>\n",
       "      <th>Russia</th>\n",
       "      <th>2000</th>\n",
       "      <th>Gymnastics</th>\n",
       "      <th>Aleksey Nemov</th>\n",
       "      <td>3</td>\n",
       "    </tr>\n",
       "    <tr>\n",
       "      <th>Austria</th>\n",
       "      <th>2002</th>\n",
       "      <th>Nordic Combined</th>\n",
       "      <th>Felix Gottwald</th>\n",
       "      <td>3</td>\n",
       "    </tr>\n",
       "    <tr>\n",
       "      <th>United States</th>\n",
       "      <th>2000</th>\n",
       "      <th>Swimming</th>\n",
       "      <th>Dara Torres</th>\n",
       "      <td>3</td>\n",
       "    </tr>\n",
       "    <tr>\n",
       "      <th>Germany</th>\n",
       "      <th>2004</th>\n",
       "      <th>Swimming</th>\n",
       "      <th>Antje Buschschulte</th>\n",
       "      <td>3</td>\n",
       "    </tr>\n",
       "    <tr>\n",
       "      <th>...</th>\n",
       "      <th>...</th>\n",
       "      <th>...</th>\n",
       "      <th>...</th>\n",
       "      <td>...</td>\n",
       "    </tr>\n",
       "    <tr>\n",
       "      <th rowspan=\"4\" valign=\"top\">Great Britain</th>\n",
       "      <th rowspan=\"4\" valign=\"top\">2000</th>\n",
       "      <th rowspan=\"4\" valign=\"top\">Sailing</th>\n",
       "      <th>Simon Hiscocks</th>\n",
       "      <td>0</td>\n",
       "    </tr>\n",
       "    <tr>\n",
       "      <th>Shirley Robertson</th>\n",
       "      <td>0</td>\n",
       "    </tr>\n",
       "    <tr>\n",
       "      <th>Mark Covell</th>\n",
       "      <td>0</td>\n",
       "    </tr>\n",
       "    <tr>\n",
       "      <th>Ian Walker</th>\n",
       "      <td>0</td>\n",
       "    </tr>\n",
       "    <tr>\n",
       "      <th>Zimbabwe</th>\n",
       "      <th>2008</th>\n",
       "      <th>Swimming</th>\n",
       "      <th>Kirsty Coventry</th>\n",
       "      <td>0</td>\n",
       "    </tr>\n",
       "  </tbody>\n",
       "</table>\n",
       "<p>8613 rows × 1 columns</p>\n",
       "</div>"
      ],
      "text/plain": [
       "                                                       brone_medal\n",
       "country       year sports          name                           \n",
       "United States 2008 Swimming        Natalie Coughlin              3\n",
       "Russia        2000 Gymnastics      Aleksey Nemov                 3\n",
       "Austria       2002 Nordic Combined Felix Gottwald                3\n",
       "United States 2000 Swimming        Dara Torres                   3\n",
       "Germany       2004 Swimming        Antje Buschschulte            3\n",
       "...                                                            ...\n",
       "Great Britain 2000 Sailing         Simon Hiscocks                0\n",
       "                                   Shirley Robertson             0\n",
       "                                   Mark Covell                   0\n",
       "                                   Ian Walker                    0\n",
       "Zimbabwe      2008 Swimming        Kirsty Coventry               0\n",
       "\n",
       "[8613 rows x 1 columns]"
      ]
     },
     "execution_count": 64,
     "metadata": {},
     "output_type": "execute_result"
    }
   ],
   "source": [
    "Max_sorted"
   ]
  },
  {
   "cell_type": "markdown",
   "id": "88bb7262",
   "metadata": {},
   "source": [
    "#### Maximum number of bronze medal won by many participants from various countries in various sports is 3"
   ]
  },
  {
   "cell_type": "code",
   "execution_count": 65,
   "id": "c3ba910b",
   "metadata": {},
   "outputs": [],
   "source": [
    "#to get the partcipant info who won max medals\n",
    "gold_max_player=olympic.groupby(by=['country','sports','name'])['gold_medal'].sum()\n",
    "#converting the result into dataframe\n",
    "gold_max_player=pd.DataFrame(gold_max_player)"
   ]
  },
  {
   "cell_type": "code",
   "execution_count": 66,
   "id": "ef415d52",
   "metadata": {},
   "outputs": [],
   "source": [
    "Max_sorted=gold_max_player.sort_values('gold_medal',ascending=False)"
   ]
  },
  {
   "cell_type": "code",
   "execution_count": 67,
   "id": "66130301",
   "metadata": {},
   "outputs": [
    {
     "data": {
      "text/html": [
       "<div>\n",
       "<style scoped>\n",
       "    .dataframe tbody tr th:only-of-type {\n",
       "        vertical-align: middle;\n",
       "    }\n",
       "\n",
       "    .dataframe tbody tr th {\n",
       "        vertical-align: top;\n",
       "    }\n",
       "\n",
       "    .dataframe thead th {\n",
       "        text-align: right;\n",
       "    }\n",
       "</style>\n",
       "<table border=\"1\" class=\"dataframe\">\n",
       "  <thead>\n",
       "    <tr style=\"text-align: right;\">\n",
       "      <th></th>\n",
       "      <th></th>\n",
       "      <th></th>\n",
       "      <th>gold_medal</th>\n",
       "    </tr>\n",
       "    <tr>\n",
       "      <th>country</th>\n",
       "      <th>sports</th>\n",
       "      <th>name</th>\n",
       "      <th></th>\n",
       "    </tr>\n",
       "  </thead>\n",
       "  <tbody>\n",
       "    <tr>\n",
       "      <th>United States</th>\n",
       "      <th>Swimming</th>\n",
       "      <th>Michael Phelps</th>\n",
       "      <td>18</td>\n",
       "    </tr>\n",
       "    <tr>\n",
       "      <th>Great Britain</th>\n",
       "      <th>Cycling</th>\n",
       "      <th>Chris Hoy</th>\n",
       "      <td>6</td>\n",
       "    </tr>\n",
       "    <tr>\n",
       "      <th>Jamaica</th>\n",
       "      <th>Athletics</th>\n",
       "      <th>Usain Bolt</th>\n",
       "      <td>6</td>\n",
       "    </tr>\n",
       "    <tr>\n",
       "      <th>China</th>\n",
       "      <th>Gymnastics</th>\n",
       "      <th>Zou Kai</th>\n",
       "      <td>5</td>\n",
       "    </tr>\n",
       "    <tr>\n",
       "      <th>Russia</th>\n",
       "      <th>Synchronized Swimming</th>\n",
       "      <th>Anastasiya Davydova</th>\n",
       "      <td>5</td>\n",
       "    </tr>\n",
       "    <tr>\n",
       "      <th>...</th>\n",
       "      <th>...</th>\n",
       "      <th>...</th>\n",
       "      <td>...</td>\n",
       "    </tr>\n",
       "    <tr>\n",
       "      <th rowspan=\"4\" valign=\"top\">Great Britain</th>\n",
       "      <th rowspan=\"4\" valign=\"top\">Hockey</th>\n",
       "      <th>Chloe Rogers</th>\n",
       "      <td>0</td>\n",
       "    </tr>\n",
       "    <tr>\n",
       "      <th>Beth Storry</th>\n",
       "      <td>0</td>\n",
       "    </tr>\n",
       "    <tr>\n",
       "      <th>Ashleigh Ball</th>\n",
       "      <td>0</td>\n",
       "    </tr>\n",
       "    <tr>\n",
       "      <th>Ann Panter</th>\n",
       "      <td>0</td>\n",
       "    </tr>\n",
       "    <tr>\n",
       "      <th>Italy</th>\n",
       "      <th>Waterpolo</th>\n",
       "      <th>Amaurys Perez</th>\n",
       "      <td>0</td>\n",
       "    </tr>\n",
       "  </tbody>\n",
       "</table>\n",
       "<p>6982 rows × 1 columns</p>\n",
       "</div>"
      ],
      "text/plain": [
       "                                                         gold_medal\n",
       "country       sports                name                           \n",
       "United States Swimming              Michael Phelps               18\n",
       "Great Britain Cycling               Chris Hoy                     6\n",
       "Jamaica       Athletics             Usain Bolt                    6\n",
       "China         Gymnastics            Zou Kai                       5\n",
       "Russia        Synchronized Swimming Anastasiya Davydova           5\n",
       "...                                                             ...\n",
       "Great Britain Hockey                Chloe Rogers                  0\n",
       "                                    Beth Storry                   0\n",
       "                                    Ashleigh Ball                 0\n",
       "                                    Ann Panter                    0\n",
       "Italy         Waterpolo             Amaurys Perez                 0\n",
       "\n",
       "[6982 rows x 1 columns]"
      ]
     },
     "execution_count": 67,
     "metadata": {},
     "output_type": "execute_result"
    }
   ],
   "source": [
    "Max_sorted"
   ]
  },
  {
   "cell_type": "markdown",
   "id": "7c939347",
   "metadata": {},
   "source": [
    "#### Micheal Phelps from United States won the maximum number of gold medal in swimming from all the years cumulatively "
   ]
  },
  {
   "cell_type": "code",
   "execution_count": 68,
   "id": "e9eb4dfe",
   "metadata": {},
   "outputs": [],
   "source": [
    "#to get the partcipant info who won max medals\n",
    "silver_max_player=olympic.groupby(by=['country','sports','name'])['silver_medal'].sum()\n",
    "#converting the result into dataframe\n",
    "silver_max_player=pd.DataFrame(silver_max_player)"
   ]
  },
  {
   "cell_type": "code",
   "execution_count": 69,
   "id": "b32824c7",
   "metadata": {},
   "outputs": [],
   "source": [
    "Max_sorted=silver_max_player.sort_values('silver_medal',ascending=False)"
   ]
  },
  {
   "cell_type": "code",
   "execution_count": 70,
   "id": "9e59710c",
   "metadata": {},
   "outputs": [
    {
     "data": {
      "text/html": [
       "<div>\n",
       "<style scoped>\n",
       "    .dataframe tbody tr th:only-of-type {\n",
       "        vertical-align: middle;\n",
       "    }\n",
       "\n",
       "    .dataframe tbody tr th {\n",
       "        vertical-align: top;\n",
       "    }\n",
       "\n",
       "    .dataframe thead th {\n",
       "        text-align: right;\n",
       "    }\n",
       "</style>\n",
       "<table border=\"1\" class=\"dataframe\">\n",
       "  <thead>\n",
       "    <tr style=\"text-align: right;\">\n",
       "      <th></th>\n",
       "      <th></th>\n",
       "      <th></th>\n",
       "      <th>silver_medal</th>\n",
       "    </tr>\n",
       "    <tr>\n",
       "      <th>country</th>\n",
       "      <th>sports</th>\n",
       "      <th>name</th>\n",
       "      <th></th>\n",
       "    </tr>\n",
       "  </thead>\n",
       "  <tbody>\n",
       "    <tr>\n",
       "      <th>Australia</th>\n",
       "      <th>Swimming</th>\n",
       "      <th>Leisel Jones</th>\n",
       "      <td>5</td>\n",
       "    </tr>\n",
       "    <tr>\n",
       "      <th>Hungary</th>\n",
       "      <th>Canoeing</th>\n",
       "      <th>Katalin Kovács</th>\n",
       "      <td>5</td>\n",
       "    </tr>\n",
       "    <tr>\n",
       "      <th>Zimbabwe</th>\n",
       "      <th>Swimming</th>\n",
       "      <th>Kirsty Coventry</th>\n",
       "      <td>4</td>\n",
       "    </tr>\n",
       "    <tr>\n",
       "      <th>South Korea</th>\n",
       "      <th>Short-Track Speed Skating</th>\n",
       "      <th>Lee HoSeok</th>\n",
       "      <td>4</td>\n",
       "    </tr>\n",
       "    <tr>\n",
       "      <th>Japan</th>\n",
       "      <th>Synchronized Swimming</th>\n",
       "      <th>Miya Tachibana</th>\n",
       "      <td>4</td>\n",
       "    </tr>\n",
       "    <tr>\n",
       "      <th>...</th>\n",
       "      <th>...</th>\n",
       "      <th>...</th>\n",
       "      <td>...</td>\n",
       "    </tr>\n",
       "    <tr>\n",
       "      <th rowspan=\"4\" valign=\"top\">Latvia</th>\n",
       "      <th>Beach Volleyball</th>\n",
       "      <th>Martinš Plavinš</th>\n",
       "      <td>0</td>\n",
       "    </tr>\n",
       "    <tr>\n",
       "      <th>Cycling</th>\n",
       "      <th>Maris Štrombergs</th>\n",
       "      <td>0</td>\n",
       "    </tr>\n",
       "    <tr>\n",
       "      <th>Gymnastics</th>\n",
       "      <th>Igors Vihrovs</th>\n",
       "      <td>0</td>\n",
       "    </tr>\n",
       "    <tr>\n",
       "      <th>Judo</th>\n",
       "      <th>Vsevolods Zelonijs</th>\n",
       "      <td>0</td>\n",
       "    </tr>\n",
       "    <tr>\n",
       "      <th>Afghanistan</th>\n",
       "      <th>Taekwondo</th>\n",
       "      <th>Rohullah Nikpai</th>\n",
       "      <td>0</td>\n",
       "    </tr>\n",
       "  </tbody>\n",
       "</table>\n",
       "<p>6982 rows × 1 columns</p>\n",
       "</div>"
      ],
      "text/plain": [
       "                                                          silver_medal\n",
       "country     sports                    name                            \n",
       "Australia   Swimming                  Leisel Jones                   5\n",
       "Hungary     Canoeing                  Katalin Kovács                 5\n",
       "Zimbabwe    Swimming                  Kirsty Coventry                4\n",
       "South Korea Short-Track Speed Skating Lee HoSeok                     4\n",
       "Japan       Synchronized Swimming     Miya Tachibana                 4\n",
       "...                                                                ...\n",
       "Latvia      Beach Volleyball          Martinš Plavinš                0\n",
       "            Cycling                   Maris Štrombergs               0\n",
       "            Gymnastics                Igors Vihrovs                  0\n",
       "            Judo                      Vsevolods Zelonijs             0\n",
       "Afghanistan Taekwondo                 Rohullah Nikpai                0\n",
       "\n",
       "[6982 rows x 1 columns]"
      ]
     },
     "execution_count": 70,
     "metadata": {},
     "output_type": "execute_result"
    }
   ],
   "source": [
    "Max_sorted"
   ]
  },
  {
   "cell_type": "markdown",
   "id": "96a97a90",
   "metadata": {},
   "source": [
    "#### Leisel Jones from Austrilia in swimming and Katalin Kovács from hungary in canoeing won the maximum silver medal from all the years cumulatively i.e,3"
   ]
  },
  {
   "cell_type": "code",
   "execution_count": 71,
   "id": "e8078caa",
   "metadata": {},
   "outputs": [],
   "source": [
    "#to get the partcipant info who won max medals\n",
    "Bronze_max_player=olympic.groupby(by=['country','sports','name'])['brone_medal'].sum()\n",
    "#converting the result into dataframe\n",
    "Bronze_max_player=pd.DataFrame(Bronze_max_player)"
   ]
  },
  {
   "cell_type": "code",
   "execution_count": 72,
   "id": "c418c427",
   "metadata": {},
   "outputs": [],
   "source": [
    "Max_sorted=Bronze_max_player.sort_values('brone_medal',ascending=False)"
   ]
  },
  {
   "cell_type": "code",
   "execution_count": 73,
   "id": "ab382fea",
   "metadata": {},
   "outputs": [
    {
     "data": {
      "text/html": [
       "<div>\n",
       "<style scoped>\n",
       "    .dataframe tbody tr th:only-of-type {\n",
       "        vertical-align: middle;\n",
       "    }\n",
       "\n",
       "    .dataframe tbody tr th {\n",
       "        vertical-align: top;\n",
       "    }\n",
       "\n",
       "    .dataframe thead th {\n",
       "        text-align: right;\n",
       "    }\n",
       "</style>\n",
       "<table border=\"1\" class=\"dataframe\">\n",
       "  <thead>\n",
       "    <tr style=\"text-align: right;\">\n",
       "      <th></th>\n",
       "      <th></th>\n",
       "      <th></th>\n",
       "      <th>brone_medal</th>\n",
       "    </tr>\n",
       "    <tr>\n",
       "      <th>country</th>\n",
       "      <th>sports</th>\n",
       "      <th>name</th>\n",
       "      <th></th>\n",
       "    </tr>\n",
       "  </thead>\n",
       "  <tbody>\n",
       "    <tr>\n",
       "      <th>United States</th>\n",
       "      <th>Swimming</th>\n",
       "      <th>Natalie Coughlin</th>\n",
       "      <td>5</td>\n",
       "    </tr>\n",
       "    <tr>\n",
       "      <th>Sweden</th>\n",
       "      <th>Alpine Skiing</th>\n",
       "      <th>Anja Pärson</th>\n",
       "      <td>4</td>\n",
       "    </tr>\n",
       "    <tr>\n",
       "      <th>Germany</th>\n",
       "      <th>Swimming</th>\n",
       "      <th>Antje Buschschulte</th>\n",
       "      <td>4</td>\n",
       "    </tr>\n",
       "    <tr>\n",
       "      <th>United States</th>\n",
       "      <th>Short-Track Speed Skating</th>\n",
       "      <th>Apolo Anton Ohno</th>\n",
       "      <td>4</td>\n",
       "    </tr>\n",
       "    <tr>\n",
       "      <th>Switzerland</th>\n",
       "      <th>Bobsleigh</th>\n",
       "      <th>Martin Annen</th>\n",
       "      <td>3</td>\n",
       "    </tr>\n",
       "    <tr>\n",
       "      <th>...</th>\n",
       "      <th>...</th>\n",
       "      <th>...</th>\n",
       "      <td>...</td>\n",
       "    </tr>\n",
       "    <tr>\n",
       "      <th rowspan=\"4\" valign=\"top\">Mexico</th>\n",
       "      <th rowspan=\"4\" valign=\"top\">Football</th>\n",
       "      <th>Hiram Mier</th>\n",
       "      <td>0</td>\n",
       "    </tr>\n",
       "    <tr>\n",
       "      <th>Héctor Herrera</th>\n",
       "      <td>0</td>\n",
       "    </tr>\n",
       "    <tr>\n",
       "      <th>Israel Jiménez</th>\n",
       "      <td>0</td>\n",
       "    </tr>\n",
       "    <tr>\n",
       "      <th>Javier Aquino</th>\n",
       "      <td>0</td>\n",
       "    </tr>\n",
       "    <tr>\n",
       "      <th>Italy</th>\n",
       "      <th>Waterpolo</th>\n",
       "      <th>Amaurys Perez</th>\n",
       "      <td>0</td>\n",
       "    </tr>\n",
       "  </tbody>\n",
       "</table>\n",
       "<p>6982 rows × 1 columns</p>\n",
       "</div>"
      ],
      "text/plain": [
       "                                                            brone_medal\n",
       "country       sports                    name                           \n",
       "United States Swimming                  Natalie Coughlin              5\n",
       "Sweden        Alpine Skiing             Anja Pärson                   4\n",
       "Germany       Swimming                  Antje Buschschulte            4\n",
       "United States Short-Track Speed Skating Apolo Anton Ohno              4\n",
       "Switzerland   Bobsleigh                 Martin Annen                  3\n",
       "...                                                                 ...\n",
       "Mexico        Football                  Hiram Mier                    0\n",
       "                                        Héctor Herrera                0\n",
       "                                        Israel Jiménez                0\n",
       "                                        Javier Aquino                 0\n",
       "Italy         Waterpolo                 Amaurys Perez                 0\n",
       "\n",
       "[6982 rows x 1 columns]"
      ]
     },
     "execution_count": 73,
     "metadata": {},
     "output_type": "execute_result"
    }
   ],
   "source": [
    "Max_sorted"
   ]
  },
  {
   "cell_type": "markdown",
   "id": "1fa3b6fc",
   "metadata": {},
   "source": [
    "#### Maximum Bronze medal is won by Natalie Coughlin from United States in Swimming from all the years is 5"
   ]
  },
  {
   "cell_type": "code",
   "execution_count": 74,
   "id": "a0da67bc",
   "metadata": {},
   "outputs": [],
   "source": [
    "#to get the partcipant info who won max medals\n",
    "Total_max_player=olympic.groupby(by=['country','sports','name'])['total_medal'].sum()\n",
    "#converting the result into dataframe\n",
    "Total_max_player=pd.DataFrame(Total_max_player)"
   ]
  },
  {
   "cell_type": "code",
   "execution_count": 75,
   "id": "844b5327",
   "metadata": {},
   "outputs": [],
   "source": [
    "Max_sorted=Total_max_player.sort_values('total_medal',ascending=False)"
   ]
  },
  {
   "cell_type": "code",
   "execution_count": 76,
   "id": "524d7aaa",
   "metadata": {},
   "outputs": [
    {
     "data": {
      "text/html": [
       "<div>\n",
       "<style scoped>\n",
       "    .dataframe tbody tr th:only-of-type {\n",
       "        vertical-align: middle;\n",
       "    }\n",
       "\n",
       "    .dataframe tbody tr th {\n",
       "        vertical-align: top;\n",
       "    }\n",
       "\n",
       "    .dataframe thead th {\n",
       "        text-align: right;\n",
       "    }\n",
       "</style>\n",
       "<table border=\"1\" class=\"dataframe\">\n",
       "  <thead>\n",
       "    <tr style=\"text-align: right;\">\n",
       "      <th></th>\n",
       "      <th></th>\n",
       "      <th></th>\n",
       "      <th>total_medal</th>\n",
       "    </tr>\n",
       "    <tr>\n",
       "      <th>country</th>\n",
       "      <th>sports</th>\n",
       "      <th>name</th>\n",
       "      <th></th>\n",
       "    </tr>\n",
       "  </thead>\n",
       "  <tbody>\n",
       "    <tr>\n",
       "      <th rowspan=\"3\" valign=\"top\">United States</th>\n",
       "      <th rowspan=\"3\" valign=\"top\">Swimming</th>\n",
       "      <th>Michael Phelps</th>\n",
       "      <td>22</td>\n",
       "    </tr>\n",
       "    <tr>\n",
       "      <th>Natalie Coughlin</th>\n",
       "      <td>12</td>\n",
       "    </tr>\n",
       "    <tr>\n",
       "      <th>Ryan Lochte</th>\n",
       "      <td>11</td>\n",
       "    </tr>\n",
       "    <tr>\n",
       "      <th rowspan=\"2\" valign=\"top\">Australia</th>\n",
       "      <th rowspan=\"2\" valign=\"top\">Swimming</th>\n",
       "      <th>Ian Thorpe</th>\n",
       "      <td>9</td>\n",
       "    </tr>\n",
       "    <tr>\n",
       "      <th>Leisel Jones</th>\n",
       "      <td>9</td>\n",
       "    </tr>\n",
       "    <tr>\n",
       "      <th>...</th>\n",
       "      <th>...</th>\n",
       "      <th>...</th>\n",
       "      <td>...</td>\n",
       "    </tr>\n",
       "    <tr>\n",
       "      <th>Cameroon</th>\n",
       "      <th>Football</th>\n",
       "      <th>Modeste M'Bami</th>\n",
       "      <td>1</td>\n",
       "    </tr>\n",
       "    <tr>\n",
       "      <th rowspan=\"4\" valign=\"top\">Italy</th>\n",
       "      <th>Canoeing</th>\n",
       "      <th>Andrea Facchin</th>\n",
       "      <td>1</td>\n",
       "    </tr>\n",
       "    <tr>\n",
       "      <th rowspan=\"2\" valign=\"top\">Boxing</th>\n",
       "      <th>Vincenzo Picardi</th>\n",
       "      <td>1</td>\n",
       "    </tr>\n",
       "    <tr>\n",
       "      <th>Vincenzo Mangiacapre</th>\n",
       "      <td>1</td>\n",
       "    </tr>\n",
       "    <tr>\n",
       "      <th>Waterpolo</th>\n",
       "      <th>Amaurys Perez</th>\n",
       "      <td>1</td>\n",
       "    </tr>\n",
       "  </tbody>\n",
       "</table>\n",
       "<p>6982 rows × 1 columns</p>\n",
       "</div>"
      ],
      "text/plain": [
       "                                              total_medal\n",
       "country       sports    name                             \n",
       "United States Swimming  Michael Phelps                 22\n",
       "                        Natalie Coughlin               12\n",
       "                        Ryan Lochte                    11\n",
       "Australia     Swimming  Ian Thorpe                      9\n",
       "                        Leisel Jones                    9\n",
       "...                                                   ...\n",
       "Cameroon      Football  Modeste M'Bami                  1\n",
       "Italy         Canoeing  Andrea Facchin                  1\n",
       "              Boxing    Vincenzo Picardi                1\n",
       "                        Vincenzo Mangiacapre            1\n",
       "              Waterpolo Amaurys Perez                   1\n",
       "\n",
       "[6982 rows x 1 columns]"
      ]
     },
     "execution_count": 76,
     "metadata": {},
     "output_type": "execute_result"
    }
   ],
   "source": [
    "Max_sorted"
   ]
  },
  {
   "cell_type": "markdown",
   "id": "506cf2db",
   "metadata": {},
   "source": [
    "#### Maximum total number of medals is won by Micheal Phelps of United States in swimming that is 22"
   ]
  },
  {
   "cell_type": "code",
   "execution_count": 77,
   "id": "ebc5e72f",
   "metadata": {},
   "outputs": [
    {
     "data": {
      "text/html": [
       "<div>\n",
       "<style scoped>\n",
       "    .dataframe tbody tr th:only-of-type {\n",
       "        vertical-align: middle;\n",
       "    }\n",
       "\n",
       "    .dataframe tbody tr th {\n",
       "        vertical-align: top;\n",
       "    }\n",
       "\n",
       "    .dataframe thead th {\n",
       "        text-align: right;\n",
       "    }\n",
       "</style>\n",
       "<table border=\"1\" class=\"dataframe\">\n",
       "  <thead>\n",
       "    <tr style=\"text-align: right;\">\n",
       "      <th></th>\n",
       "      <th>gold_medal</th>\n",
       "      <th>silver_medal</th>\n",
       "      <th>brone_medal</th>\n",
       "    </tr>\n",
       "  </thead>\n",
       "  <tbody>\n",
       "    <tr>\n",
       "      <th>0</th>\n",
       "      <td>5694</td>\n",
       "      <td>5609.0</td>\n",
       "      <td>5444.0</td>\n",
       "    </tr>\n",
       "    <tr>\n",
       "      <th>1</th>\n",
       "      <td>2745</td>\n",
       "      <td>2896.0</td>\n",
       "      <td>3098.0</td>\n",
       "    </tr>\n",
       "    <tr>\n",
       "      <th>2</th>\n",
       "      <td>150</td>\n",
       "      <td>104.0</td>\n",
       "      <td>71.0</td>\n",
       "    </tr>\n",
       "    <tr>\n",
       "      <th>3</th>\n",
       "      <td>24</td>\n",
       "      <td>9.0</td>\n",
       "      <td>5.0</td>\n",
       "    </tr>\n",
       "    <tr>\n",
       "      <th>4</th>\n",
       "      <td>3</td>\n",
       "      <td>NaN</td>\n",
       "      <td>NaN</td>\n",
       "    </tr>\n",
       "    <tr>\n",
       "      <th>6</th>\n",
       "      <td>1</td>\n",
       "      <td>NaN</td>\n",
       "      <td>NaN</td>\n",
       "    </tr>\n",
       "    <tr>\n",
       "      <th>8</th>\n",
       "      <td>1</td>\n",
       "      <td>NaN</td>\n",
       "      <td>NaN</td>\n",
       "    </tr>\n",
       "  </tbody>\n",
       "</table>\n",
       "</div>"
      ],
      "text/plain": [
       "   gold_medal  silver_medal  brone_medal\n",
       "0        5694        5609.0       5444.0\n",
       "1        2745        2896.0       3098.0\n",
       "2         150         104.0         71.0\n",
       "3          24           9.0          5.0\n",
       "4           3           NaN          NaN\n",
       "6           1           NaN          NaN\n",
       "8           1           NaN          NaN"
      ]
     },
     "execution_count": 77,
     "metadata": {},
     "output_type": "execute_result"
    }
   ],
   "source": [
    "olympic[['gold_medal', 'silver_medal','brone_medal']].apply(pd.Series.value_counts)"
   ]
  },
  {
   "cell_type": "markdown",
   "id": "1abe4a05",
   "metadata": {},
   "source": [
    "#### From above table we get the count of number of medal won like 1 gold medal has count of 2745 and so on .."
   ]
  },
  {
   "cell_type": "markdown",
   "id": "3ba64f6a",
   "metadata": {},
   "source": [
    "## Conclusion"
   ]
  },
  {
   "cell_type": "markdown",
   "id": "e50d1d3c",
   "metadata": {},
   "source": [
    "#### 1. In this total Participating countries are 110\n",
    "#### 2. Total of 49 sports were played in which 6955 participants participated\n",
    "#### 3. Minimum age of the athelete is 15 whereas maximum age is 61 among all particpants\n",
    "#### 4. Maximum number of participation was in atheletics from all year cumulatively\n",
    "#### 5. swimming was the sports in which maximum gold and silver medal was won in all year cumulatively\n",
    "#### 6. United States was the country who won more Gold, Silver and Bronze medal and was best performing countries among all the participated county from all the years cumulatively\n",
    "#### 7. Maximum number of participation is from Sweden in 2006 in Ice hockey i.e. 44\n",
    "#### 8. Maximum Number og Gold Medal is won by Micheal Phelps of United States in Swimming in year 2008 is 8\n",
    "#### 9. Maximum Number of Silver Medal is won by many participants of different sports of different country is 3\n",
    "#### 10. Maximum Number of Bronze medal is wom by many participants in diiferent sports of different country is 3\n",
    "#### 11. Maximum gold medal is won by Micheal Phepls of United States in swimmimg is 18\n",
    "#### 12. Maximum Silver Medal is won by Leisel Jones of Autrallia in Swimming and Katalin Kovács of Hungary in Canoeing is 5\n",
    "#### 13. Maximum Bronze Medal is won by Natalie Coughlin of United States in Swimming is 5\n",
    "#### 14.The Athelete who won maximum number of medals in all the years cumulatively is Micheal Phelps from United States in Swimmimg is 22.\n",
    "#### 15. Minimum of one medal is won by each participants in its participating year.\n"
   ]
  }
 ],
 "metadata": {
  "kernelspec": {
   "display_name": "Python 3",
   "language": "python",
   "name": "python3"
  },
  "language_info": {
   "codemirror_mode": {
    "name": "ipython",
    "version": 3
   },
   "file_extension": ".py",
   "mimetype": "text/x-python",
   "name": "python",
   "nbconvert_exporter": "python",
   "pygments_lexer": "ipython3",
   "version": "3.8.8"
  }
 },
 "nbformat": 4,
 "nbformat_minor": 5
}
